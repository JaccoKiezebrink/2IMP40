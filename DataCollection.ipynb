{
 "cells": [
  {
   "cell_type": "code",
   "execution_count": 24,
   "id": "412229c3-d45e-4b50-8c9c-e15e4815a99a",
   "metadata": {},
   "outputs": [],
   "source": [
    "import pandas as pd\n",
    "from pymongo import MongoClient\n",
    "\n",
    "connection = MongoClient(\n",
    "    host=\"research.cassee.dev\",\n",
    "    username=\"read-shark\",\n",
    "    password=\"msr2021shark\")\n",
    "\n",
    "db = connection.smartshark_2_1"
   ]
  },
  {
   "cell_type": "code",
   "execution_count": 2,
   "id": "5e74fbc0",
   "metadata": {},
   "outputs": [],
   "source": [
    "#print(len(list(db.issue.find())), \"total issues\")  # --> 163057 db.issue.count() or db.issue.find().count() does not seem to work\n",
    "#print(len(list(db.issue.find({'issue_type' : {'$exists': True}}))), \"issues containing an issue_type field\")  # --> 158222\n",
    "#print(len(list(db.issue.find({'issue_type_verified': {'$exists': True }}, {'issue_type': 1, 'issue_type_verified' : 1}))), # --> 15517\n",
    "#      \"issues containing both issue_type and issue_type_verified\")  # note, every issue with issue_type_verified also has an issue_type\n",
    "#print(len(list(db.issue.find({'issue_type' : {'$exists': True}, 'desc':{'$exists': True}}))), \"issues containing an issue_type and description field\")  # --> 146662\n"
   ]
  },
  {
   "cell_type": "code",
   "execution_count": 6,
   "id": "d0f8ead8",
   "metadata": {},
   "outputs": [],
   "source": [
    "# Query\n",
    "data = list(db.issue.aggregate([{\n",
    "           '$lookup':\n",
    "             {\n",
    "               'from': 'people',\n",
    "               'localField': 'creator_id',\n",
    "               'foreignField': '_id',\n",
    "               'as': 'people'\n",
    "             }},\n",
    "            {\n",
    "            '$unwind': '$people'\n",
    "            },\n",
    "            {\n",
    "            '$project': {\n",
    "                '_id': 1, \n",
    "                'external_id': 1, \n",
    "                'title': 1, \n",
    "                'issue_type': 1, \n",
    "                'issue_type_verified': 1, \n",
    "                'priority': 1, \n",
    "                'status': 1, \n",
    "                'created_at': 1,\n",
    "                'updated_at': 1,\n",
    "                'resolution': 1, \n",
    "                'desc': 1,\n",
    "                'creator_id': '$people._id',\n",
    "                'email': '$people.email',\n",
    "                'name': '$people.name',\n",
    "                'username': '$people.username'\n",
    "            }\n",
    "            }\n",
    "        ]))"
   ]
  },
  {
   "cell_type": "code",
   "execution_count": 7,
   "id": "fa16f527",
   "metadata": {},
   "outputs": [
    {
     "name": "stdout",
     "output_type": "stream",
     "text": [
      "157811\n"
     ]
    },
    {
     "data": {
      "text/html": [
       "<div>\n",
       "<style scoped>\n",
       "    .dataframe tbody tr th:only-of-type {\n",
       "        vertical-align: middle;\n",
       "    }\n",
       "\n",
       "    .dataframe tbody tr th {\n",
       "        vertical-align: top;\n",
       "    }\n",
       "\n",
       "    .dataframe thead th {\n",
       "        text-align: right;\n",
       "    }\n",
       "</style>\n",
       "<table border=\"1\" class=\"dataframe\">\n",
       "  <thead>\n",
       "    <tr style=\"text-align: right;\">\n",
       "      <th></th>\n",
       "      <th>_id</th>\n",
       "      <th>external_id</th>\n",
       "      <th>title</th>\n",
       "      <th>desc</th>\n",
       "      <th>created_at</th>\n",
       "      <th>updated_at</th>\n",
       "      <th>issue_type</th>\n",
       "      <th>priority</th>\n",
       "      <th>status</th>\n",
       "      <th>creator_id</th>\n",
       "      <th>email</th>\n",
       "      <th>name</th>\n",
       "      <th>username</th>\n",
       "      <th>resolution</th>\n",
       "      <th>issue_type_verified</th>\n",
       "    </tr>\n",
       "  </thead>\n",
       "  <tbody>\n",
       "    <tr>\n",
       "      <th>0</th>\n",
       "      <td>58bfca910ccb2667fe269dd1</td>\n",
       "      <td>ZOOKEEPER-24</td>\n",
       "      <td>Do Application based outstanding request throt...</td>\n",
       "      <td>Moved from SourceForge to Apache.\\nhttp://sour...</td>\n",
       "      <td>2008-06-10 21:30:20.234</td>\n",
       "      <td>2008-06-10 21:30:20.234</td>\n",
       "      <td>New Feature</td>\n",
       "      <td>Major</td>\n",
       "      <td>Open</td>\n",
       "      <td>58b938adf04620b395fccf94</td>\n",
       "      <td>phunt@apache.org</td>\n",
       "      <td>Patrick Hunt</td>\n",
       "      <td>phunt</td>\n",
       "      <td>NaN</td>\n",
       "      <td>NaN</td>\n",
       "    </tr>\n",
       "    <tr>\n",
       "      <th>1</th>\n",
       "      <td>58bfca920ccb2667fe269dd2</td>\n",
       "      <td>ZOOKEEPER-35</td>\n",
       "      <td>Replay logs</td>\n",
       "      <td>Moved from SourceForge to Apache.\\nhttp://sour...</td>\n",
       "      <td>2008-06-10 22:38:04.807</td>\n",
       "      <td>2008-06-10 22:38:04.807</td>\n",
       "      <td>New Feature</td>\n",
       "      <td>Major</td>\n",
       "      <td>Open</td>\n",
       "      <td>58b938adf04620b395fccf94</td>\n",
       "      <td>phunt@apache.org</td>\n",
       "      <td>Patrick Hunt</td>\n",
       "      <td>phunt</td>\n",
       "      <td>NaN</td>\n",
       "      <td>NaN</td>\n",
       "    </tr>\n",
       "    <tr>\n",
       "      <th>2</th>\n",
       "      <td>58bfca930ccb2667fe269dd3</td>\n",
       "      <td>ZOOKEEPER-37</td>\n",
       "      <td>WebDAV access to ZooKeeper</td>\n",
       "      <td>Moved from SourceForge to Apache.\\nhttp://sour...</td>\n",
       "      <td>2008-06-10 22:41:06.723</td>\n",
       "      <td>2008-06-10 22:41:06.723</td>\n",
       "      <td>New Feature</td>\n",
       "      <td>Major</td>\n",
       "      <td>Open</td>\n",
       "      <td>58b938adf04620b395fccf94</td>\n",
       "      <td>phunt@apache.org</td>\n",
       "      <td>Patrick Hunt</td>\n",
       "      <td>phunt</td>\n",
       "      <td>NaN</td>\n",
       "      <td>NaN</td>\n",
       "    </tr>\n",
       "    <tr>\n",
       "      <th>3</th>\n",
       "      <td>58bfca930ccb2667fe269dd4</td>\n",
       "      <td>ZOOKEEPER-46</td>\n",
       "      <td>Clients should check the latencies to the vari...</td>\n",
       "      <td>When ZooKeeper clients and servers are on the ...</td>\n",
       "      <td>2008-06-17 14:56:48.591</td>\n",
       "      <td>2008-06-17 14:57:32.124</td>\n",
       "      <td>Improvement</td>\n",
       "      <td>Major</td>\n",
       "      <td>Open</td>\n",
       "      <td>58b938adf04620b39bfccf95</td>\n",
       "      <td>breed@apache.org</td>\n",
       "      <td>Benjamin Reed</td>\n",
       "      <td>breed</td>\n",
       "      <td>NaN</td>\n",
       "      <td>NaN</td>\n",
       "    </tr>\n",
       "    <tr>\n",
       "      <th>4</th>\n",
       "      <td>58bfca940ccb2667fe269dd7</td>\n",
       "      <td>ZOOKEEPER-52</td>\n",
       "      <td>Session ids on the stat cmd information</td>\n",
       "      <td>Currently there is not a way to correlate sess...</td>\n",
       "      <td>2008-06-25 15:34:15.116</td>\n",
       "      <td>2008-06-25 15:34:15.116</td>\n",
       "      <td>Improvement</td>\n",
       "      <td>Minor</td>\n",
       "      <td>Open</td>\n",
       "      <td>58b938adf04620b39bfccf95</td>\n",
       "      <td>breed@apache.org</td>\n",
       "      <td>Benjamin Reed</td>\n",
       "      <td>breed</td>\n",
       "      <td>NaN</td>\n",
       "      <td>NaN</td>\n",
       "    </tr>\n",
       "  </tbody>\n",
       "</table>\n",
       "</div>"
      ],
      "text/plain": [
       "                        _id   external_id  \\\n",
       "0  58bfca910ccb2667fe269dd1  ZOOKEEPER-24   \n",
       "1  58bfca920ccb2667fe269dd2  ZOOKEEPER-35   \n",
       "2  58bfca930ccb2667fe269dd3  ZOOKEEPER-37   \n",
       "3  58bfca930ccb2667fe269dd4  ZOOKEEPER-46   \n",
       "4  58bfca940ccb2667fe269dd7  ZOOKEEPER-52   \n",
       "\n",
       "                                               title  \\\n",
       "0  Do Application based outstanding request throt...   \n",
       "1                                        Replay logs   \n",
       "2                         WebDAV access to ZooKeeper   \n",
       "3  Clients should check the latencies to the vari...   \n",
       "4            Session ids on the stat cmd information   \n",
       "\n",
       "                                                desc              created_at  \\\n",
       "0  Moved from SourceForge to Apache.\\nhttp://sour... 2008-06-10 21:30:20.234   \n",
       "1  Moved from SourceForge to Apache.\\nhttp://sour... 2008-06-10 22:38:04.807   \n",
       "2  Moved from SourceForge to Apache.\\nhttp://sour... 2008-06-10 22:41:06.723   \n",
       "3  When ZooKeeper clients and servers are on the ... 2008-06-17 14:56:48.591   \n",
       "4  Currently there is not a way to correlate sess... 2008-06-25 15:34:15.116   \n",
       "\n",
       "               updated_at   issue_type priority status  \\\n",
       "0 2008-06-10 21:30:20.234  New Feature    Major   Open   \n",
       "1 2008-06-10 22:38:04.807  New Feature    Major   Open   \n",
       "2 2008-06-10 22:41:06.723  New Feature    Major   Open   \n",
       "3 2008-06-17 14:57:32.124  Improvement    Major   Open   \n",
       "4 2008-06-25 15:34:15.116  Improvement    Minor   Open   \n",
       "\n",
       "                 creator_id             email           name username  \\\n",
       "0  58b938adf04620b395fccf94  phunt@apache.org   Patrick Hunt    phunt   \n",
       "1  58b938adf04620b395fccf94  phunt@apache.org   Patrick Hunt    phunt   \n",
       "2  58b938adf04620b395fccf94  phunt@apache.org   Patrick Hunt    phunt   \n",
       "3  58b938adf04620b39bfccf95  breed@apache.org  Benjamin Reed    breed   \n",
       "4  58b938adf04620b39bfccf95  breed@apache.org  Benjamin Reed    breed   \n",
       "\n",
       "  resolution issue_type_verified  \n",
       "0        NaN                 NaN  \n",
       "1        NaN                 NaN  \n",
       "2        NaN                 NaN  \n",
       "3        NaN                 NaN  \n",
       "4        NaN                 NaN  "
      ]
     },
     "execution_count": 7,
     "metadata": {},
     "output_type": "execute_result"
    }
   ],
   "source": [
    "# Convert to dataframe\n",
    "df = pd.DataFrame(data)\n",
    "\n",
    "#df = df['issue_type'].dropna()\n",
    "print(len(df.index))\n",
    "df.head()"
   ]
  },
  {
   "cell_type": "markdown",
   "id": "07cb2a17",
   "metadata": {},
   "source": [
    "## Issue Types (Verified)"
   ]
  },
  {
   "cell_type": "code",
   "execution_count": 8,
   "id": "e1164360",
   "metadata": {},
   "outputs": [],
   "source": [
    "# Combine issue type and issue type verified, such that if there is a verified type we pick that, otherwise keep the original issue type\n",
    "df['new_issue_type'] = df['issue_type_verified'].combine_first(df['issue_type'])\n",
    "\n",
    "# drop the old issue types and rename new_issue_type to issue_type\n",
    "df = df.drop(columns = ['issue_type', 'issue_type_verified'])\n",
    "df = df.rename(columns={'new_issue_type': 'issue_type'})"
   ]
  },
  {
   "cell_type": "code",
   "execution_count": 9,
   "id": "119d48ab",
   "metadata": {
    "scrolled": true
   },
   "outputs": [
    {
     "name": "stdout",
     "output_type": "stream",
     "text": [
      "All issue type currently present:\n",
      " bug                                      81227\n",
      "improvement                              42197\n",
      "new feature                               9585\n",
      "sub-task                                  9501\n",
      "task                                      8436\n",
      "test                                      1739\n",
      "wish                                      1397\n",
      "other                                     1227\n",
      "documentation                             1080\n",
      "feature_request                            549\n",
      "question                                   310\n",
      "dependency upgrade                         153\n",
      "epic                                       133\n",
      "refactoring                                 92\n",
      "story                                       56\n",
      "temp                                        31\n",
      "umbrella                                    24\n",
      "brainstorming                               20\n",
      "dependency                                  18\n",
      "blog - new blog request                      6\n",
      "technical task                               6\n",
      "request                                      5\n",
      "tck challenge                                4\n",
      "it help                                      3\n",
      "new jira project                             3\n",
      "access                                       2\n",
      "outage                                       1\n",
      "proposal                                     1\n",
      "new tlp                                      1\n",
      "new git repo                                 1\n",
      "project                                      1\n",
      "planned work                                 1\n",
      "blogs - new blog user account request        1\n",
      "Name: issue_type, dtype: int64\n",
      "\n",
      "Combined issue types:\n",
      " bug              81227\n",
      "feature          53754\n",
      "task             17943\n",
      "test              1739\n",
      "other             1587\n",
      "documentation     1080\n",
      "question           310\n",
      "dependency         171\n",
      "Name: issue_type, dtype: int64\n"
     ]
    }
   ],
   "source": [
    "# put all issue types in lowercase\n",
    "df['issue_type'] = df['issue_type'].apply(lambda x: x.lower())\n",
    "print(\"All issue type currently present:\\n\", df['issue_type'].value_counts(dropna=False))\n",
    "\n",
    "# grouping of values which mean the same but have different labels\n",
    "feature_equivs = ['improvement', 'new feature', 'wish', 'feature_request', 'brainstorming', 'request', 'proposal']\n",
    "feature_val = 'feature'\n",
    "task_equivs = ['sub-task', 'task', 'technical task']\n",
    "task_val = 'task'\n",
    "dependency_equivs = ['dependency upgrade', 'dependency']\n",
    "dep_val = 'dependency'\n",
    "other_equivs = ['other', 'epic', 'refactoring', 'temp', 'umbrella', 'story', 'blog - new blog request', 'tck challenge', 'it help', 'new jira project', 'access', 'blogs - new blog user account request', 'project', 'outage', 'new tlp ', 'new git repo', 'planned work']\n",
    "other_val = 'other'\n",
    "\n",
    "# mainly not sure what to do with: test, documentation, question, epic, refactoring, temp and umbrella\n",
    "\n",
    "df['issue_type'] = df['issue_type'].apply(lambda val: feature_val if val in feature_equivs else val) \n",
    "df['issue_type'] = df['issue_type'].apply(lambda val: task_val if val in task_equivs else val) \n",
    "df['issue_type'] = df['issue_type'].apply(lambda val: dep_val if val in dependency_equivs else val) \n",
    "df['issue_type'] = df['issue_type'].apply(lambda val: other_val if val in other_equivs else val) \n",
    "\n",
    "print(\"\\nCombined issue types:\\n\", df['issue_type'].value_counts(dropna=False))"
   ]
  },
  {
   "cell_type": "markdown",
   "id": "aeafa0a5",
   "metadata": {},
   "source": [
    "### Status"
   ]
  },
  {
   "cell_type": "code",
   "execution_count": 10,
   "id": "d278f71e",
   "metadata": {},
   "outputs": [
    {
     "name": "stdout",
     "output_type": "stream",
     "text": [
      "Initial unique status values\n",
      " Closed             80826\n",
      "Resolved           47778\n",
      "Open               26772\n",
      "Patch Available     1106\n",
      "Reopened             706\n",
      "In Progress          621\n",
      "Blocked                2\n",
      "Name: status, dtype: int64\n",
      "\n",
      "Filtered status\n",
      " Closed      80826\n",
      "Resolved    47778\n",
      "Name: status, dtype: int64\n"
     ]
    }
   ],
   "source": [
    "print(\"Initial unique status values\\n\", df['status'].value_counts(dropna=False))\n",
    "\n",
    "# All issues have a statement (i.e. no nan values), interestingly blocked only occurs twice\n",
    "# We'll only look at closed and resolved issues\n",
    "df = df[(df['status'] == 'Closed') | (df['status'] == 'Resolved')]\n",
    "\n",
    "print(\"\\nFiltered status\\n\", df['status'].value_counts(dropna=False))"
   ]
  },
  {
   "cell_type": "markdown",
   "id": "988eab95",
   "metadata": {},
   "source": [
    "### Resolution"
   ]
  },
  {
   "cell_type": "code",
   "execution_count": 11,
   "id": "ee7c7e6e",
   "metadata": {},
   "outputs": [
    {
     "name": "stdout",
     "output_type": "stream",
     "text": [
      "Initial unique resolution values:\n",
      " Fixed                   99313\n",
      "Won't Fix                7024\n",
      "Duplicate                6876\n",
      "Not A Problem            4298\n",
      "Invalid                  3119\n",
      "Cannot Reproduce         2537\n",
      "Incomplete               2461\n",
      "Done                     1018\n",
      "Implemented               347\n",
      "Not A Bug                 326\n",
      "Resolved                  298\n",
      "Later                     289\n",
      "Auto Closed               180\n",
      "Won't Do                  128\n",
      "Abandoned                 105\n",
      "Information Provided       84\n",
      "Workaround                 73\n",
      "Unresolved                 49\n",
      "Pending Closed             39\n",
      "Works for Me               17\n",
      "Feedback Received           9\n",
      "Delivered                   7\n",
      "NaN                         4\n",
      "REMIND                      2\n",
      "Staged                      1\n",
      "Name: resolution, dtype: int64\n",
      "\n",
      "Combined unique resolution values:\n",
      " Resolved                101400\n",
      "Invalid                  19295\n",
      "Unresolved                7527\n",
      "Later                      289\n",
      "Information Provided        84\n",
      "Feedback Received            9\n",
      "Name: resolution, dtype: int64\n"
     ]
    }
   ],
   "source": [
    "print(\"Initial unique resolution values:\\n\", df['resolution'].value_counts(dropna=False))\n",
    "\n",
    "# grouping of values which mean the same but have different labels\n",
    "resolved_equivs = ['Fixed', 'Done', 'Not A Bug', 'Resolved', 'Workaround', 'Works for Me', 'Delivered', 'Implemented', 'Staged']\n",
    "resolved_val = 'Resolved'\n",
    "unresolved_equivs = [\"Won't Fix\", 'Auto Closed', \"Won't Do\", \"Abandoned\", 'Unresolved', 'Pending Closed', 'REMIND']\n",
    "unresolved_val = 'Unresolved'\n",
    "invalid_equivs = ['Duplicate', 'Not A Problem', 'Invalid', 'Cannot Reproduce', 'Incomplete']\n",
    "invalid_val = 'Invalid'\n",
    "\n",
    "# Not a problem, not a bug -> invalid or resolved?\n",
    "# information provided?   About half resolved, half closed\n",
    "# Feedback Received?  About half resolved, half closed\n",
    "# Later ?  Again about half resolved, half closed\n",
    "\n",
    "df['resolution'] = df['resolution'].apply(lambda val: resolved_val if val in resolved_equivs else val) \n",
    "df['resolution'] = df['resolution'].apply(lambda val: unresolved_val if val in unresolved_equivs else val) \n",
    "df['resolution'] = df['resolution'].apply(lambda val: invalid_val if val in invalid_equivs else val) \n",
    "df['resolution'] = df['resolution'].apply(lambda val: invalid_val if str(val) == 'nan' else val)  # drop nans as .dropna() doesn't seem to work\n",
    "df['resolution'] = df['resolution'].dropna()\n",
    "print(\"\\nCombined unique resolution values:\\n\", df['resolution'].value_counts(dropna=False))"
   ]
  },
  {
   "cell_type": "markdown",
   "id": "ca1ac1ae",
   "metadata": {},
   "source": [
    "## Descriptions"
   ]
  },
  {
   "cell_type": "code",
   "execution_count": 9,
   "id": "870a380a",
   "metadata": {},
   "outputs": [
    {
     "data": {
      "text/plain": [
       "count    1.187070e+05\n",
       "mean     1.089738e+03\n",
       "std      1.141729e+04\n",
       "min      1.000000e+00\n",
       "25%      1.880000e+02\n",
       "50%      3.920000e+02\n",
       "75%      8.820000e+02\n",
       "max      3.051514e+06\n",
       "Name: desc_length, dtype: float64"
      ]
     },
     "execution_count": 9,
     "metadata": {},
     "output_type": "execute_result"
    }
   ],
   "source": [
    "df = df[df['desc'] != '']\n",
    "df_plot = df\n",
    "df_plot['desc_length'] = df_plot['desc'].str.len()\n",
    "df_plot['desc_length'].describe()"
   ]
  },
  {
   "cell_type": "code",
   "execution_count": 10,
   "id": "f1e68b40",
   "metadata": {},
   "outputs": [
    {
     "data": {
      "text/plain": [
       "array([[<AxesSubplot:title={'center':'desc_length'}>]], dtype=object)"
      ]
     },
     "execution_count": 10,
     "metadata": {},
     "output_type": "execute_result"
    }
   ],
   "source": [
    "df_plot[(df_plot['desc_length'] > 0) & (df_plot['desc_length'] < 10000)].hist(column='desc_length', bins=100)"
   ]
  },
  {
   "cell_type": "markdown",
   "id": "bff276fd",
   "metadata": {},
   "source": [
    "### Emails (Bots)"
   ]
  },
  {
   "cell_type": "code",
   "execution_count": 11,
   "id": "3cae8773",
   "metadata": {},
   "outputs": [
    {
     "name": "stdout",
     "output_type": "stream",
     "text": [
      "Number of issues where the creator has no (null) email address is 116937\n",
      "The resulting issues with email address is 11636\n"
     ]
    }
   ],
   "source": [
    "# No issues created by people without a name, df[df['name'] == None], df[df['name'] == ''], df[df['name'] == 'null'], df[df['name'].str.len() == 0]\n",
    "\n",
    "print(\"Number of issues where the creator has no (null) email address is\", len(df[df['email'] == 'null'].index))\n",
    "print(\"The resulting issues with email address is\", len(df[df['email'] != 'null'].index))\n",
    "\n",
    "# bots are marked with [bot] after their username, however there are only 13 in the dataset\n",
    "bot_ids = [p['_id'] for p in list(db.people.find({'username': {'$regex' : '\\[bot\\]'}}))]  \n",
    "df = df[~df['creator_id'].isin(bot_ids)]  # filter their ids"
   ]
  },
  {
   "cell_type": "markdown",
   "id": "6498d567",
   "metadata": {},
   "source": [
    "### Closing Time"
   ]
  },
  {
   "cell_type": "code",
   "execution_count": 17,
   "id": "b2746325",
   "metadata": {},
   "outputs": [],
   "source": [
    "# Current assumption is that since all issues are resolved or closed, their updated_at time is the closing/resolving time.\n",
    "# Although a better method may be to find the exact closing/resolving 'event'\n",
    "\n",
    "from datetime import timedelta\n",
    "\n",
    "df['time_diff'] = df['updated_at'] - df['created_at']\n",
    "# Somehow a couple issues have been updated before their created_at date\n",
    "df = df[df['time_diff'] > timedelta(seconds=60)]  # filter out all issues closed within one minute\n",
    "#df['time_diff'] = df['time_diff'].dt.total_seconds()  # if for example seconds are more desired"
   ]
  },
  {
   "cell_type": "code",
   "execution_count": 18,
   "id": "ea547a65",
   "metadata": {},
   "outputs": [
    {
     "data": {
      "text/plain": [
       "<AxesSubplot:>"
      ]
     },
     "execution_count": 18,
     "metadata": {},
     "output_type": "execute_result"
    },
    {
     "data": {
      "image/png": "[encoded data removed]",
      "text/plain": [
       "<Figure size 432x288 with 1 Axes>"
      ]
     },
     "metadata": {
      "needs_background": "light"
     },
     "output_type": "display_data"
    }
   ],
   "source": [
    "# Distribution\n",
    "df['time_diff'].dt.total_seconds().hist(bins=100)"
   ]
  },
  {
   "cell_type": "code",
   "execution_count": 34,
   "id": "5ed642d6",
   "metadata": {
    "scrolled": true
   },
   "outputs": [
    {
     "name": "stdout",
     "output_type": "stream",
     "text": [
      "1290480\n"
     ]
    },
    {
     "data": {
      "text/html": [
       "<div>\n",
       "<style scoped>\n",
       "    .dataframe tbody tr th:only-of-type {\n",
       "        vertical-align: middle;\n",
       "    }\n",
       "\n",
       "    .dataframe tbody tr th {\n",
       "        vertical-align: top;\n",
       "    }\n",
       "\n",
       "    .dataframe thead th {\n",
       "        text-align: right;\n",
       "    }\n",
       "</style>\n",
       "<table border=\"1\" class=\"dataframe\">\n",
       "  <thead>\n",
       "    <tr style=\"text-align: right;\">\n",
       "      <th></th>\n",
       "      <th>_id</th>\n",
       "      <th>created_at</th>\n",
       "      <th>new_value</th>\n",
       "      <th>issue_id</th>\n",
       "      <th>issue_created_at</th>\n",
       "      <th>old_value</th>\n",
       "    </tr>\n",
       "  </thead>\n",
       "  <tbody>\n",
       "    <tr>\n",
       "      <th>0</th>\n",
       "      <td>58bfca930ccb2667fe269dd5</td>\n",
       "      <td>2008-06-17 14:57:32.125</td>\n",
       "      <td>java client</td>\n",
       "      <td>58bfca930ccb2667fe269dd4</td>\n",
       "      <td>2008-06-17 14:56:48.591</td>\n",
       "      <td>NaN</td>\n",
       "    </tr>\n",
       "    <tr>\n",
       "      <th>1</th>\n",
       "      <td>58bfca930ccb2667fe269dd6</td>\n",
       "      <td>2008-06-17 14:57:32.125</td>\n",
       "      <td>c client</td>\n",
       "      <td>58bfca930ccb2667fe269dd4</td>\n",
       "      <td>2008-06-17 14:56:48.591</td>\n",
       "      <td>NaN</td>\n",
       "    </tr>\n",
       "    <tr>\n",
       "      <th>2</th>\n",
       "      <td>58bfca950ccb2667fe269dd9</td>\n",
       "      <td>2008-06-27 14:57:40.462</td>\n",
       "      <td>Resolved</td>\n",
       "      <td>58bfca950ccb2667fe269dd8</td>\n",
       "      <td>2008-06-18 21:45:37.853</td>\n",
       "      <td>Open</td>\n",
       "    </tr>\n",
       "    <tr>\n",
       "      <th>3</th>\n",
       "      <td>58bfca950ccb2667fe269dda</td>\n",
       "      <td>2008-06-27 14:57:40.462</td>\n",
       "      <td>Invalid</td>\n",
       "      <td>58bfca950ccb2667fe269dd8</td>\n",
       "      <td>2008-06-18 21:45:37.853</td>\n",
       "      <td>NaN</td>\n",
       "    </tr>\n",
       "    <tr>\n",
       "      <th>4</th>\n",
       "      <td>58bfca950ccb2667fe269ddf</td>\n",
       "      <td>2008-07-22 17:46:24.481</td>\n",
       "      <td>Won't Fix</td>\n",
       "      <td>58bfca950ccb2667fe269dde</td>\n",
       "      <td>2008-07-04 01:51:27.937</td>\n",
       "      <td>NaN</td>\n",
       "    </tr>\n",
       "  </tbody>\n",
       "</table>\n",
       "</div>"
      ],
      "text/plain": [
       "                        _id              created_at    new_value  \\\n",
       "0  58bfca930ccb2667fe269dd5 2008-06-17 14:57:32.125  java client   \n",
       "1  58bfca930ccb2667fe269dd6 2008-06-17 14:57:32.125     c client   \n",
       "2  58bfca950ccb2667fe269dd9 2008-06-27 14:57:40.462     Resolved   \n",
       "3  58bfca950ccb2667fe269dda 2008-06-27 14:57:40.462      Invalid   \n",
       "4  58bfca950ccb2667fe269ddf 2008-07-22 17:46:24.481    Won't Fix   \n",
       "\n",
       "                   issue_id        issue_created_at old_value  \n",
       "0  58bfca930ccb2667fe269dd4 2008-06-17 14:56:48.591       NaN  \n",
       "1  58bfca930ccb2667fe269dd4 2008-06-17 14:56:48.591       NaN  \n",
       "2  58bfca950ccb2667fe269dd8 2008-06-18 21:45:37.853      Open  \n",
       "3  58bfca950ccb2667fe269dd8 2008-06-18 21:45:37.853       NaN  \n",
       "4  58bfca950ccb2667fe269dde 2008-07-04 01:51:27.937       NaN  "
      ]
     },
     "execution_count": 34,
     "metadata": {},
     "output_type": "execute_result"
    }
   ],
   "source": [
    "# Solution for evaluating time between opening and closing issues\n",
    "dataTime = list(db.event.aggregate([{\n",
    "           '$lookup':\n",
    "             {\n",
    "               'from': 'issue',\n",
    "               'localField': 'issue_id',\n",
    "               'foreignField': '_id',\n",
    "               'as': 'issue'\n",
    "             }},\n",
    "            {\n",
    "            '$unwind': '$issue'\n",
    "            },\n",
    "            {\n",
    "            '$project': {\n",
    "                '_id': 1, \n",
    "                'old_value': 1,  \n",
    "                'new_value': 1, \n",
    "                'created_at': 1,\n",
    "                'issue_id': '$issue._id',\n",
    "                'issue_created_at': '$issue.created_at',\n",
    "            }\n",
    "            }\n",
    "        ]))\n",
    "\n",
    "dfTime = pd.DataFrame(dataTime)\n",
    "print(len(dfTime.index))\n",
    "dfTime.head()"
   ]
  },
  {
   "cell_type": "code",
   "execution_count": 46,
   "id": "758c9457",
   "metadata": {},
   "outputs": [],
   "source": [
    "from datetime import timedelta\n",
    "# put all new value strings in lowercase\n",
    "dfTime['new_value'] = dfTime['new_value'].str.lower()\n",
    "resolved_equivs = ['resolved','closed','fixed']\n",
    "\n",
    "# We'll only look at closed and resolved issues\n",
    "dfTime = dfTime[dfTime['new_value'].isin(resolved_equivs)]  # filter new values\n",
    "\n",
    "dfTime['time_diff'] = dfTime['created_at'] - dfTime['issue_created_at']\n",
    "\n",
    "dfTime = dfTime[dfTime['time_diff'] > timedelta(seconds=60)]  # filter out all issues closed within one minute"
   ]
  },
  {
   "cell_type": "code",
   "execution_count": 47,
   "id": "d441fc0b",
   "metadata": {},
   "outputs": [
    {
     "data": {
      "text/plain": [
       "<AxesSubplot:>"
      ]
     },
     "execution_count": 47,
     "metadata": {},
     "output_type": "execute_result"
    },
    {
     "data": {
      "image/png": "[encoded data removed]",
      "text/plain": [
       "<Figure size 432x288 with 1 Axes>"
      ]
     },
     "metadata": {
      "needs_background": "light"
     },
     "output_type": "display_data"
    }
   ],
   "source": [
    "# Distribution\n",
    "dfTime['time_diff'].dt.total_seconds().hist(bins=100)"
   ]
  },
  {
   "cell_type": "code",
   "execution_count": null,
   "id": "a05200f4",
   "metadata": {},
   "outputs": [],
   "source": []
  }
 ],
 "metadata": {
  "kernelspec": {
   "display_name": "Python 3 (ipykernel)",
   "language": "python",
   "name": "python3"
  },
  "language_info": {
   "codemirror_mode": {
    "name": "ipython",
    "version": 3
   },
   "file_extension": ".py",
   "mimetype": "text/x-python",
   "name": "python",
   "nbconvert_exporter": "python",
   "pygments_lexer": "ipython3",
   "version": "3.9.5"
  }
 },
 "nbformat": 4,
 "nbformat_minor": 5
}
