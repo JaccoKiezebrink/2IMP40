{
 "cells": [
  {
   "cell_type": "code",
   "execution_count": 1,
   "id": "412229c3-d45e-4b50-8c9c-e15e4815a99a",
   "metadata": {},
   "outputs": [],
   "source": [
    "'''\n",
    "2IMP40 Data Science for Software Engineering\n",
    "Design A Study assignment group 6\n",
    "Data collection and cleaning notebook\n",
    "''';"
   ]
  },
  {
   "cell_type": "code",
   "execution_count": 2,
   "id": "3eaecb41",
   "metadata": {},
   "outputs": [],
   "source": [
    "import pandas as pd\n",
    "from pymongo import MongoClient\n",
    "\n",
    "connection = MongoClient(\n",
    "    host=\"research.cassee.dev\",\n",
    "    username=\"read-shark\",\n",
    "    password=\"msr2021shark\")\n",
    "\n",
    "db = connection.smartshark_2_1"
   ]
  },
  {
   "cell_type": "code",
   "execution_count": 3,
   "id": "d0f8ead8",
   "metadata": {},
   "outputs": [],
   "source": [
    "# Query\n",
    "data = list(db.issue.aggregate([{\n",
    "           '$lookup':\n",
    "             {\n",
    "               'from': 'people',\n",
    "               'localField': 'creator_id',\n",
    "               'foreignField': '_id',\n",
    "               'as': 'people'\n",
    "             }},\n",
    "            {\n",
    "                '$unwind': '$people'\n",
    "            },\n",
    "            {\n",
    "            '$lookup': {\n",
    "                'from': 'issue_system',\n",
    "                'localField': 'issue_system_id',\n",
    "                'foreignField': '_id',\n",
    "                'as': 'issue_system'\n",
    "                }\n",
    "            },\n",
    "            {\n",
    "                '$unwind': '$issue_system'\n",
    "            },\n",
    "            {\n",
    "            '$project': {\n",
    "                '_id': 1, \n",
    "                'project_id': '$issue_system.project_id',\n",
    "                'title': 1, \n",
    "                'issue_type': 1, \n",
    "                'issue_type_verified': 1, \n",
    "                'priority': 1, \n",
    "                'status': 1, \n",
    "                'created_at': 1,\n",
    "                'updated_at': 1,\n",
    "                'resolution': 1, \n",
    "                'desc': 1,\n",
    "                'assignee_id': 1,\n",
    "                'reporter_id': 1,\n",
    "                'creator_id': '$people._id',\n",
    "                'email': '$people.email',\n",
    "                'name': '$people.name',\n",
    "                'username': '$people.username'\n",
    "            }\n",
    "            }\n",
    "        ]))"
   ]
  },
  {
   "cell_type": "code",
   "execution_count": 4,
   "id": "fa16f527",
   "metadata": {},
   "outputs": [
    {
     "name": "stdout",
     "output_type": "stream",
     "text": [
      "157811\n"
     ]
    },
    {
     "data": {
      "text/html": [
       "<div>\n",
       "<style scoped>\n",
       "    .dataframe tbody tr th:only-of-type {\n",
       "        vertical-align: middle;\n",
       "    }\n",
       "\n",
       "    .dataframe tbody tr th {\n",
       "        vertical-align: top;\n",
       "    }\n",
       "\n",
       "    .dataframe thead th {\n",
       "        text-align: right;\n",
       "    }\n",
       "</style>\n",
       "<table border=\"1\" class=\"dataframe\">\n",
       "  <thead>\n",
       "    <tr style=\"text-align: right;\">\n",
       "      <th></th>\n",
       "      <th>_id</th>\n",
       "      <th>title</th>\n",
       "      <th>desc</th>\n",
       "      <th>created_at</th>\n",
       "      <th>updated_at</th>\n",
       "      <th>reporter_id</th>\n",
       "      <th>issue_type</th>\n",
       "      <th>priority</th>\n",
       "      <th>status</th>\n",
       "      <th>assignee_id</th>\n",
       "      <th>project_id</th>\n",
       "      <th>creator_id</th>\n",
       "      <th>email</th>\n",
       "      <th>name</th>\n",
       "      <th>username</th>\n",
       "      <th>resolution</th>\n",
       "      <th>issue_type_verified</th>\n",
       "    </tr>\n",
       "  </thead>\n",
       "  <tbody>\n",
       "    <tr>\n",
       "      <th>0</th>\n",
       "      <td>58bfca910ccb2667fe269dd1</td>\n",
       "      <td>Do Application based outstanding request throt...</td>\n",
       "      <td>Moved from SourceForge to Apache.\\nhttp://sour...</td>\n",
       "      <td>2008-06-10 21:30:20.234</td>\n",
       "      <td>2008-06-10 21:30:20.234</td>\n",
       "      <td>58b938adf04620b395fccf94</td>\n",
       "      <td>New Feature</td>\n",
       "      <td>Major</td>\n",
       "      <td>Open</td>\n",
       "      <td>58b938adf04620b39bfccf95</td>\n",
       "      <td>5ca4c6b26bcebe2f4003c6e4</td>\n",
       "      <td>58b938adf04620b395fccf94</td>\n",
       "      <td>phunt@apache.org</td>\n",
       "      <td>Patrick Hunt</td>\n",
       "      <td>phunt</td>\n",
       "      <td>NaN</td>\n",
       "      <td>NaN</td>\n",
       "    </tr>\n",
       "    <tr>\n",
       "      <th>1</th>\n",
       "      <td>58bfca920ccb2667fe269dd2</td>\n",
       "      <td>Replay logs</td>\n",
       "      <td>Moved from SourceForge to Apache.\\nhttp://sour...</td>\n",
       "      <td>2008-06-10 22:38:04.807</td>\n",
       "      <td>2008-06-10 22:38:04.807</td>\n",
       "      <td>58b938adf04620b395fccf94</td>\n",
       "      <td>New Feature</td>\n",
       "      <td>Major</td>\n",
       "      <td>Open</td>\n",
       "      <td>NaN</td>\n",
       "      <td>5ca4c6b26bcebe2f4003c6e4</td>\n",
       "      <td>58b938adf04620b395fccf94</td>\n",
       "      <td>phunt@apache.org</td>\n",
       "      <td>Patrick Hunt</td>\n",
       "      <td>phunt</td>\n",
       "      <td>NaN</td>\n",
       "      <td>NaN</td>\n",
       "    </tr>\n",
       "    <tr>\n",
       "      <th>2</th>\n",
       "      <td>58bfca930ccb2667fe269dd3</td>\n",
       "      <td>WebDAV access to ZooKeeper</td>\n",
       "      <td>Moved from SourceForge to Apache.\\nhttp://sour...</td>\n",
       "      <td>2008-06-10 22:41:06.723</td>\n",
       "      <td>2008-06-10 22:41:06.723</td>\n",
       "      <td>58b938adf04620b395fccf94</td>\n",
       "      <td>New Feature</td>\n",
       "      <td>Major</td>\n",
       "      <td>Open</td>\n",
       "      <td>58b938adf04620b395fccf94</td>\n",
       "      <td>5ca4c6b26bcebe2f4003c6e4</td>\n",
       "      <td>58b938adf04620b395fccf94</td>\n",
       "      <td>phunt@apache.org</td>\n",
       "      <td>Patrick Hunt</td>\n",
       "      <td>phunt</td>\n",
       "      <td>NaN</td>\n",
       "      <td>NaN</td>\n",
       "    </tr>\n",
       "    <tr>\n",
       "      <th>3</th>\n",
       "      <td>58bfca930ccb2667fe269dd4</td>\n",
       "      <td>Clients should check the latencies to the vari...</td>\n",
       "      <td>When ZooKeeper clients and servers are on the ...</td>\n",
       "      <td>2008-06-17 14:56:48.591</td>\n",
       "      <td>2008-06-17 14:57:32.124</td>\n",
       "      <td>58b938adf04620b39bfccf95</td>\n",
       "      <td>Improvement</td>\n",
       "      <td>Major</td>\n",
       "      <td>Open</td>\n",
       "      <td>NaN</td>\n",
       "      <td>5ca4c6b26bcebe2f4003c6e4</td>\n",
       "      <td>58b938adf04620b39bfccf95</td>\n",
       "      <td>breed@apache.org</td>\n",
       "      <td>Benjamin Reed</td>\n",
       "      <td>breed</td>\n",
       "      <td>NaN</td>\n",
       "      <td>NaN</td>\n",
       "    </tr>\n",
       "    <tr>\n",
       "      <th>4</th>\n",
       "      <td>58bfca940ccb2667fe269dd7</td>\n",
       "      <td>Session ids on the stat cmd information</td>\n",
       "      <td>Currently there is not a way to correlate sess...</td>\n",
       "      <td>2008-06-25 15:34:15.116</td>\n",
       "      <td>2008-06-25 15:34:15.116</td>\n",
       "      <td>58b938adf04620b39bfccf95</td>\n",
       "      <td>Improvement</td>\n",
       "      <td>Minor</td>\n",
       "      <td>Open</td>\n",
       "      <td>NaN</td>\n",
       "      <td>5ca4c6b26bcebe2f4003c6e4</td>\n",
       "      <td>58b938adf04620b39bfccf95</td>\n",
       "      <td>breed@apache.org</td>\n",
       "      <td>Benjamin Reed</td>\n",
       "      <td>breed</td>\n",
       "      <td>NaN</td>\n",
       "      <td>NaN</td>\n",
       "    </tr>\n",
       "  </tbody>\n",
       "</table>\n",
       "</div>"
      ],
      "text/plain": [
       "                        _id  \\\n",
       "0  58bfca910ccb2667fe269dd1   \n",
       "1  58bfca920ccb2667fe269dd2   \n",
       "2  58bfca930ccb2667fe269dd3   \n",
       "3  58bfca930ccb2667fe269dd4   \n",
       "4  58bfca940ccb2667fe269dd7   \n",
       "\n",
       "                                               title  \\\n",
       "0  Do Application based outstanding request throt...   \n",
       "1                                        Replay logs   \n",
       "2                         WebDAV access to ZooKeeper   \n",
       "3  Clients should check the latencies to the vari...   \n",
       "4            Session ids on the stat cmd information   \n",
       "\n",
       "                                                desc              created_at  \\\n",
       "0  Moved from SourceForge to Apache.\\nhttp://sour... 2008-06-10 21:30:20.234   \n",
       "1  Moved from SourceForge to Apache.\\nhttp://sour... 2008-06-10 22:38:04.807   \n",
       "2  Moved from SourceForge to Apache.\\nhttp://sour... 2008-06-10 22:41:06.723   \n",
       "3  When ZooKeeper clients and servers are on the ... 2008-06-17 14:56:48.591   \n",
       "4  Currently there is not a way to correlate sess... 2008-06-25 15:34:15.116   \n",
       "\n",
       "               updated_at               reporter_id   issue_type priority  \\\n",
       "0 2008-06-10 21:30:20.234  58b938adf04620b395fccf94  New Feature    Major   \n",
       "1 2008-06-10 22:38:04.807  58b938adf04620b395fccf94  New Feature    Major   \n",
       "2 2008-06-10 22:41:06.723  58b938adf04620b395fccf94  New Feature    Major   \n",
       "3 2008-06-17 14:57:32.124  58b938adf04620b39bfccf95  Improvement    Major   \n",
       "4 2008-06-25 15:34:15.116  58b938adf04620b39bfccf95  Improvement    Minor   \n",
       "\n",
       "  status               assignee_id                project_id  \\\n",
       "0   Open  58b938adf04620b39bfccf95  5ca4c6b26bcebe2f4003c6e4   \n",
       "1   Open                       NaN  5ca4c6b26bcebe2f4003c6e4   \n",
       "2   Open  58b938adf04620b395fccf94  5ca4c6b26bcebe2f4003c6e4   \n",
       "3   Open                       NaN  5ca4c6b26bcebe2f4003c6e4   \n",
       "4   Open                       NaN  5ca4c6b26bcebe2f4003c6e4   \n",
       "\n",
       "                 creator_id             email           name username  \\\n",
       "0  58b938adf04620b395fccf94  phunt@apache.org   Patrick Hunt    phunt   \n",
       "1  58b938adf04620b395fccf94  phunt@apache.org   Patrick Hunt    phunt   \n",
       "2  58b938adf04620b395fccf94  phunt@apache.org   Patrick Hunt    phunt   \n",
       "3  58b938adf04620b39bfccf95  breed@apache.org  Benjamin Reed    breed   \n",
       "4  58b938adf04620b39bfccf95  breed@apache.org  Benjamin Reed    breed   \n",
       "\n",
       "  resolution issue_type_verified  \n",
       "0        NaN                 NaN  \n",
       "1        NaN                 NaN  \n",
       "2        NaN                 NaN  \n",
       "3        NaN                 NaN  \n",
       "4        NaN                 NaN  "
      ]
     },
     "execution_count": 4,
     "metadata": {},
     "output_type": "execute_result"
    }
   ],
   "source": [
    "# Convert to dataframe\n",
    "df = pd.DataFrame(data)\n",
    "\n",
    "print(len(df.index))\n",
    "df.head()"
   ]
  },
  {
   "cell_type": "markdown",
   "id": "07cb2a17",
   "metadata": {},
   "source": [
    "## Issue Types (Verified)"
   ]
  },
  {
   "cell_type": "code",
   "execution_count": 5,
   "id": "e1164360",
   "metadata": {},
   "outputs": [],
   "source": [
    "# Combine issue type and issue type verified, such that if there is a verified type we pick that, otherwise keep the original issue type\n",
    "df['new_issue_type'] = df['issue_type_verified'].combine_first(df['issue_type'])\n",
    "\n",
    "# drop the old issue types and rename new_issue_type to issue_type\n",
    "df = df.drop(columns = ['issue_type', 'issue_type_verified'])\n",
    "df = df.rename(columns={'new_issue_type': 'issue_type'})"
   ]
  },
  {
   "cell_type": "code",
   "execution_count": 6,
   "id": "119d48ab",
   "metadata": {
    "scrolled": true
   },
   "outputs": [
    {
     "name": "stdout",
     "output_type": "stream",
     "text": [
      "All issue type currently present:\n",
      " bug                                      81227\n",
      "improvement                              42197\n",
      "new feature                               9585\n",
      "sub-task                                  9501\n",
      "task                                      8436\n",
      "test                                      1739\n",
      "wish                                      1397\n",
      "other                                     1227\n",
      "documentation                             1080\n",
      "feature_request                            549\n",
      "question                                   310\n",
      "dependency upgrade                         153\n",
      "epic                                       133\n",
      "refactoring                                 92\n",
      "story                                       56\n",
      "temp                                        31\n",
      "umbrella                                    24\n",
      "brainstorming                               20\n",
      "dependency                                  18\n",
      "blog - new blog request                      6\n",
      "technical task                               6\n",
      "request                                      5\n",
      "tck challenge                                4\n",
      "new jira project                             3\n",
      "it help                                      3\n",
      "access                                       2\n",
      "new git repo                                 1\n",
      "planned work                                 1\n",
      "outage                                       1\n",
      "new tlp                                      1\n",
      "proposal                                     1\n",
      "project                                      1\n",
      "blogs - new blog user account request        1\n",
      "Name: issue_type, dtype: int64\n",
      "\n",
      "Combined issue types:\n",
      " bug              81227\n",
      "feature          53734\n",
      "task             17943\n",
      "test              1739\n",
      "documentation     1080\n",
      "Name: issue_type, dtype: int64\n"
     ]
    }
   ],
   "source": [
    "# put all issue types in lowercase\n",
    "df['issue_type'] = df['issue_type'].apply(lambda x: x.lower())\n",
    "print(\"All issue type currently present:\\n\", df['issue_type'].value_counts(dropna=False))\n",
    "\n",
    "# grouping of values which mean the same but have different labels\n",
    "feature_equivs = ['improvement', 'new feature', 'wish', 'feature_request', 'request', 'proposal']\n",
    "feature_val = 'feature'\n",
    "task_equivs = ['sub-task', 'task', 'technical task']\n",
    "task_val = 'task'\n",
    "dependency_equivs = ['dependency upgrade', 'dependency']\n",
    "dep_val = 'dependency'\n",
    "other_equivs = ['other', 'epic', 'refactoring', 'temp', 'umbrella', 'story', 'blog - new blog request', 'tck challenge', 'it help', 'new jira project', 'access', 'blogs - new blog user account request', 'project', 'outage', 'new tlp ', 'new git repo', 'planned work', 'brainstorming', 'dependency upgrade', 'dependency', 'question']\n",
    "other_val = 'thrash'\n",
    "\n",
    "\n",
    "# mainly not sure what to do with: test, documentation, question, epic, refactoring, temp and umbrella\n",
    "\n",
    "df['issue_type'] = df['issue_type'].apply(lambda val: feature_val if val in feature_equivs else val) \n",
    "df['issue_type'] = df['issue_type'].apply(lambda val: task_val if val in task_equivs else val) \n",
    "df['issue_type'] = df['issue_type'].apply(lambda val: dep_val if val in dependency_equivs else val) \n",
    "df['issue_type'] = df['issue_type'].apply(lambda val: other_val if val in other_equivs else val) \n",
    "\n",
    "df = df[df['issue_type'] != other_val]\n",
    "\n",
    "print(\"\\nCombined issue types:\\n\", df['issue_type'].value_counts(dropna=False))"
   ]
  },
  {
   "cell_type": "markdown",
   "id": "aeafa0a5",
   "metadata": {},
   "source": [
    "### Status"
   ]
  },
  {
   "cell_type": "code",
   "execution_count": 7,
   "id": "d278f71e",
   "metadata": {},
   "outputs": [
    {
     "name": "stdout",
     "output_type": "stream",
     "text": [
      "Initial unique status values\n",
      " Closed             79445\n",
      "Resolved           47321\n",
      "Open               26544\n",
      "Patch Available     1106\n",
      "Reopened             699\n",
      "In Progress          606\n",
      "Blocked                2\n",
      "Name: status, dtype: int64\n",
      "\n",
      "Filtered status\n",
      " Closed      79445\n",
      "Resolved    47321\n",
      "Name: status, dtype: int64\n"
     ]
    }
   ],
   "source": [
    "print(\"Initial unique status values\\n\", df['status'].value_counts(dropna=False))\n",
    "\n",
    "# All issues have a statement (i.e. no nan values), interestingly blocked only occurs twice\n",
    "# We'll only look at closed and resolved issues\n",
    "df = df[(df['status'] == 'Closed') | (df['status'] == 'Resolved')]\n",
    "\n",
    "print(\"\\nFiltered status\\n\", df['status'].value_counts(dropna=False))"
   ]
  },
  {
   "cell_type": "markdown",
   "id": "988eab95",
   "metadata": {},
   "source": [
    "### Resolution"
   ]
  },
  {
   "cell_type": "code",
   "execution_count": 8,
   "id": "ee7c7e6e",
   "metadata": {},
   "outputs": [
    {
     "name": "stdout",
     "output_type": "stream",
     "text": [
      "Initial unique resolution values:\n",
      " Fixed                   97796\n",
      "Won't Fix                6969\n",
      "Duplicate                6863\n",
      "Not A Problem            4191\n",
      "Invalid                  3081\n",
      "Cannot Reproduce         2517\n",
      "Incomplete               2455\n",
      "Done                      973\n",
      "Implemented               340\n",
      "Not A Bug                 322\n",
      "Resolved                  294\n",
      "Later                     286\n",
      "Auto Closed               180\n",
      "Won't Do                  128\n",
      "Abandoned                 102\n",
      "Information Provided       72\n",
      "Workaround                 72\n",
      "Unresolved                 47\n",
      "Pending Closed             39\n",
      "Works for Me               16\n",
      "Feedback Received           9\n",
      "Delivered                   7\n",
      "NaN                         4\n",
      "REMIND                      2\n",
      "Staged                      1\n",
      "Name: resolution, dtype: int64\n",
      "\n",
      "Combined unique resolution values:\n",
      " Resolved      99483\n",
      "Unresolved    10320\n",
      "Name: resolution, dtype: int64\n"
     ]
    }
   ],
   "source": [
    "print(\"Initial unique resolution values:\\n\", df['resolution'].value_counts(dropna=False))\n",
    "\n",
    "# grouping of values which mean the same but have different labels\n",
    "resolved_equivs = ['Fixed', 'Done', 'Resolved', 'Workaround', 'Delivered', 'Implemented', 'Staged']\n",
    "resolved_val = 'Resolved'\n",
    "unresolved_equivs = [\"Won't Fix\", 'Not A Bug', 'Works for Me', 'Cannot Reproduce', 'Auto Closed', \"Won't Do\", \"Abandoned\", 'Unresolved', 'Pending Closed']\n",
    "unresolved_val = 'Unresolved'\n",
    "invalid_equivs = ['Duplicate', 'Not A Problem', 'Invalid', 'Incomplete', 'REMIND', 'Later', 'Information Provided', 'Feedback Received']\n",
    "invalid_val = 'Invalid'\n",
    "\n",
    "df['resolution'] = df['resolution'].apply(lambda val: resolved_val if val in resolved_equivs else val) \n",
    "df['resolution'] = df['resolution'].apply(lambda val: unresolved_val if val in unresolved_equivs else val) \n",
    "df['resolution'] = df['resolution'].apply(lambda val: invalid_val if val in invalid_equivs else val) \n",
    "df['resolution'] = df['resolution'].apply(lambda val: invalid_val if str(val) == 'nan' else val)  # drop nans as .dropna() doesn't seem to work\n",
    "df['resolution'] = df['resolution'].dropna()\n",
    "df = df[df['resolution'] != invalid_val]\n",
    "\n",
    "print(\"\\nCombined unique resolution values:\\n\", df['resolution'].value_counts(dropna=False))"
   ]
  },
  {
   "cell_type": "markdown",
   "id": "ca1ac1ae",
   "metadata": {},
   "source": [
    "## Descriptions"
   ]
  },
  {
   "cell_type": "code",
   "execution_count": 9,
   "id": "870a380a",
   "metadata": {},
   "outputs": [
    {
     "data": {
      "text/plain": [
       "count    1.008490e+05\n",
       "mean     9.602492e+02\n",
       "std      6.235314e+03\n",
       "min      1.000000e+00\n",
       "25%      1.790000e+02\n",
       "50%      3.690000e+02\n",
       "75%      8.150000e+02\n",
       "max      1.555213e+06\n",
       "Name: desc_length, dtype: float64"
      ]
     },
     "execution_count": 9,
     "metadata": {},
     "output_type": "execute_result"
    }
   ],
   "source": [
    "df = df[df['desc'] != '']\n",
    "df = df[~df['desc'].isnull()]\n",
    "df_plot = df\n",
    "df_plot['desc_length'] = df_plot['desc'].str.len()\n",
    "df_plot['desc_length'].describe()"
   ]
  },
  {
   "cell_type": "code",
   "execution_count": 10,
   "id": "f1e68b40",
   "metadata": {},
   "outputs": [
    {
     "data": {
      "text/plain": [
       "array([[<AxesSubplot:title={'center':'desc_length'}>]], dtype=object)"
      ]
     },
     "execution_count": 10,
     "metadata": {},
     "output_type": "execute_result"
    }
   ],
   "source": [
    "df_plot[(df_plot['desc_length'] > 0) & (df_plot['desc_length'] < 10000)].hist(column='desc_length', bins=100)"
   ]
  },
  {
   "cell_type": "code",
   "execution_count": 11,
   "id": "ca3ef0d4",
   "metadata": {},
   "outputs": [],
   "source": [
    "# We don't do anything further with description or description lenght, so remove it as 'desc' takes up most data\n",
    "df = df.drop(columns=['desc', 'desc_length'], axis=1)"
   ]
  },
  {
   "cell_type": "markdown",
   "id": "bff276fd",
   "metadata": {},
   "source": [
    "### Emails (Bots)"
   ]
  },
  {
   "cell_type": "code",
   "execution_count": 12,
   "id": "3cae8773",
   "metadata": {},
   "outputs": [
    {
     "name": "stdout",
     "output_type": "stream",
     "text": [
      "Number of issues where the creator has no (null) email address is 91310\n",
      "The resulting issues with email address is 9539\n"
     ]
    }
   ],
   "source": [
    "# No issues created by people without a name, df[df['name'] == None], df[df['name'] == ''], df[df['name'] == 'null'], df[df['name'].str.len() == 0]\n",
    "\n",
    "print(\"Number of issues where the creator has no (null) email address is\", len(df[df['email'] == 'null'].index))\n",
    "print(\"The resulting issues with email address is\", len(df[df['email'] != 'null'].index))\n",
    "\n",
    "# bots are marked with [bot] after their username, however there are only 13 in the dataset\n",
    "bot_ids = [p['_id'] for p in list(db.people.find({'username': {'$regex' : '\\[bot\\]'}}))]  \n",
    "df = df[~df['creator_id'].isin(bot_ids)]  # filter their ids"
   ]
  },
  {
   "cell_type": "markdown",
   "id": "3a011ede",
   "metadata": {},
   "source": [
    "### Assignee"
   ]
  },
  {
   "cell_type": "code",
   "execution_count": 13,
   "id": "6a9d6da9",
   "metadata": {},
   "outputs": [
    {
     "name": "stdout",
     "output_type": "stream",
     "text": [
      "Current #issues: 100849 #issues with an assignee: 79690\n"
     ]
    }
   ],
   "source": [
    "print(\"Current #issues:\", len(df.index), \"#issues with an assignee:\", len(df['assignee_id'].dropna()))\n",
    "df = df[~df['assignee_id'].isnull()]"
   ]
  },
  {
   "cell_type": "markdown",
   "id": "bdd46763",
   "metadata": {},
   "source": [
    "### Comments"
   ]
  },
  {
   "cell_type": "code",
   "execution_count": 14,
   "id": "db591074",
   "metadata": {},
   "outputs": [
    {
     "data": {
      "text/html": [
       "<div>\n",
       "<style scoped>\n",
       "    .dataframe tbody tr th:only-of-type {\n",
       "        vertical-align: middle;\n",
       "    }\n",
       "\n",
       "    .dataframe tbody tr th {\n",
       "        vertical-align: top;\n",
       "    }\n",
       "\n",
       "    .dataframe thead th {\n",
       "        text-align: right;\n",
       "    }\n",
       "</style>\n",
       "<table border=\"1\" class=\"dataframe\">\n",
       "  <thead>\n",
       "    <tr style=\"text-align: right;\">\n",
       "      <th></th>\n",
       "      <th>issue_id</th>\n",
       "      <th>author_id</th>\n",
       "    </tr>\n",
       "  </thead>\n",
       "  <tbody>\n",
       "    <tr>\n",
       "      <th>0</th>\n",
       "      <td>58bfca950ccb2667fe269dd8</td>\n",
       "      <td>58bfc521e4f89451f55cdefb</td>\n",
       "    </tr>\n",
       "    <tr>\n",
       "      <th>1</th>\n",
       "      <td>58bfca950ccb2667fe269dd8</td>\n",
       "      <td>58b938adf04620b39bfccf95</td>\n",
       "    </tr>\n",
       "    <tr>\n",
       "      <th>2</th>\n",
       "      <td>58bfca950ccb2667fe269dde</td>\n",
       "      <td>58bfc521e4f89451f55cdefc</td>\n",
       "    </tr>\n",
       "    <tr>\n",
       "      <th>3</th>\n",
       "      <td>58bfca950ccb2667fe269dde</td>\n",
       "      <td>58bfc521e4f89451f55cdefc</td>\n",
       "    </tr>\n",
       "    <tr>\n",
       "      <th>4</th>\n",
       "      <td>58bfca950ccb2667fe269dde</td>\n",
       "      <td>58b938acf04620b370fccf94</td>\n",
       "    </tr>\n",
       "  </tbody>\n",
       "</table>\n",
       "</div>"
      ],
      "text/plain": [
       "                   issue_id                 author_id\n",
       "0  58bfca950ccb2667fe269dd8  58bfc521e4f89451f55cdefb\n",
       "1  58bfca950ccb2667fe269dd8  58b938adf04620b39bfccf95\n",
       "2  58bfca950ccb2667fe269dde  58bfc521e4f89451f55cdefc\n",
       "3  58bfca950ccb2667fe269dde  58bfc521e4f89451f55cdefc\n",
       "4  58bfca950ccb2667fe269dde  58b938acf04620b370fccf94"
      ]
     },
     "execution_count": 14,
     "metadata": {},
     "output_type": "execute_result"
    }
   ],
   "source": [
    "issue_comments = list(db.issue_comment.find({}, {'author_id': 1, 'issue_id': 1}))\n",
    "df_comments = pd.DataFrame(issue_comments)[['issue_id', 'author_id']]\n",
    "df_comments.head()"
   ]
  },
  {
   "cell_type": "code",
   "execution_count": 15,
   "id": "3680606a",
   "metadata": {},
   "outputs": [
    {
     "data": {
      "text/html": [
       "<div>\n",
       "<style scoped>\n",
       "    .dataframe tbody tr th:only-of-type {\n",
       "        vertical-align: middle;\n",
       "    }\n",
       "\n",
       "    .dataframe tbody tr th {\n",
       "        vertical-align: top;\n",
       "    }\n",
       "\n",
       "    .dataframe thead th {\n",
       "        text-align: right;\n",
       "    }\n",
       "</style>\n",
       "<table border=\"1\" class=\"dataframe\">\n",
       "  <thead>\n",
       "    <tr style=\"text-align: right;\">\n",
       "      <th></th>\n",
       "      <th>author_count</th>\n",
       "    </tr>\n",
       "    <tr>\n",
       "      <th>issue_id</th>\n",
       "      <th></th>\n",
       "    </tr>\n",
       "  </thead>\n",
       "  <tbody>\n",
       "    <tr>\n",
       "      <th>58bfca950ccb2667fe269dd8</th>\n",
       "      <td>1</td>\n",
       "    </tr>\n",
       "    <tr>\n",
       "      <th>58bfca950ccb2667fe269ddd</th>\n",
       "      <td>2</td>\n",
       "    </tr>\n",
       "    <tr>\n",
       "      <th>58bfca950ccb2667fe269dde</th>\n",
       "      <td>2</td>\n",
       "    </tr>\n",
       "    <tr>\n",
       "      <th>58bfca970ccb2667fe269df6</th>\n",
       "      <td>7</td>\n",
       "    </tr>\n",
       "    <tr>\n",
       "      <th>58bfca980ccb2667fe269e11</th>\n",
       "      <td>19</td>\n",
       "    </tr>\n",
       "  </tbody>\n",
       "</table>\n",
       "</div>"
      ],
      "text/plain": [
       "                          author_count\n",
       "issue_id                              \n",
       "58bfca950ccb2667fe269dd8             1\n",
       "58bfca950ccb2667fe269ddd             2\n",
       "58bfca950ccb2667fe269dde             2\n",
       "58bfca970ccb2667fe269df6             7\n",
       "58bfca980ccb2667fe269e11            19"
      ]
     },
     "execution_count": 15,
     "metadata": {},
     "output_type": "execute_result"
    }
   ],
   "source": [
    "# Get number of (unique) authors of comments per issue\n",
    "# based on https://stackoverflow.com/questions/17679089/pandas-dataframe-groupby-two-columns-and-get-counts\n",
    "unique_authors_per_issue = df_comments.groupby([\"issue_id\", \"author_id\"]).size().groupby(level=0).max().to_frame(name='author_count')\n",
    "unique_authors_per_issue.head()"
   ]
  },
  {
   "cell_type": "code",
   "execution_count": 16,
   "id": "35115ee5",
   "metadata": {},
   "outputs": [
    {
     "data": {
      "text/html": [
       "<div>\n",
       "<style scoped>\n",
       "    .dataframe tbody tr th:only-of-type {\n",
       "        vertical-align: middle;\n",
       "    }\n",
       "\n",
       "    .dataframe tbody tr th {\n",
       "        vertical-align: top;\n",
       "    }\n",
       "\n",
       "    .dataframe thead th {\n",
       "        text-align: right;\n",
       "    }\n",
       "</style>\n",
       "<table border=\"1\" class=\"dataframe\">\n",
       "  <thead>\n",
       "    <tr style=\"text-align: right;\">\n",
       "      <th></th>\n",
       "      <th>comment_count</th>\n",
       "    </tr>\n",
       "  </thead>\n",
       "  <tbody>\n",
       "    <tr>\n",
       "      <th>5bc8673fcb48f009ce59e1bb</th>\n",
       "      <td>1126</td>\n",
       "    </tr>\n",
       "    <tr>\n",
       "      <th>5bc86689cb48f009ce59da60</th>\n",
       "      <td>887</td>\n",
       "    </tr>\n",
       "    <tr>\n",
       "      <th>5bc87193cb48f009ce5a3e5f</th>\n",
       "      <td>466</td>\n",
       "    </tr>\n",
       "    <tr>\n",
       "      <th>5b868bc5e68f507fbce4bcb3</th>\n",
       "      <td>392</td>\n",
       "    </tr>\n",
       "    <tr>\n",
       "      <th>5b8688dfe68f507fbce4975d</th>\n",
       "      <td>384</td>\n",
       "    </tr>\n",
       "  </tbody>\n",
       "</table>\n",
       "</div>"
      ],
      "text/plain": [
       "                          comment_count\n",
       "5bc8673fcb48f009ce59e1bb           1126\n",
       "5bc86689cb48f009ce59da60            887\n",
       "5bc87193cb48f009ce5a3e5f            466\n",
       "5b868bc5e68f507fbce4bcb3            392\n",
       "5b8688dfe68f507fbce4975d            384"
      ]
     },
     "execution_count": 16,
     "metadata": {},
     "output_type": "execute_result"
    }
   ],
   "source": [
    "# Get number of comments per issue by counting unique issue_id\n",
    "issue_comment_count = df_comments['issue_id'].value_counts().to_frame(name='comment_count')\n",
    "issue_comment_count.head()"
   ]
  },
  {
   "cell_type": "code",
   "execution_count": 17,
   "id": "2b9b3dc3",
   "metadata": {},
   "outputs": [
    {
     "data": {
      "text/html": [
       "<div>\n",
       "<style scoped>\n",
       "    .dataframe tbody tr th:only-of-type {\n",
       "        vertical-align: middle;\n",
       "    }\n",
       "\n",
       "    .dataframe tbody tr th {\n",
       "        vertical-align: top;\n",
       "    }\n",
       "\n",
       "    .dataframe thead th {\n",
       "        text-align: right;\n",
       "    }\n",
       "</style>\n",
       "<table border=\"1\" class=\"dataframe\">\n",
       "  <thead>\n",
       "    <tr style=\"text-align: right;\">\n",
       "      <th></th>\n",
       "      <th>comment_count</th>\n",
       "      <th>author_count</th>\n",
       "    </tr>\n",
       "  </thead>\n",
       "  <tbody>\n",
       "    <tr>\n",
       "      <th>5bc8673fcb48f009ce59e1bb</th>\n",
       "      <td>1126</td>\n",
       "      <td>1042</td>\n",
       "    </tr>\n",
       "    <tr>\n",
       "      <th>5bc86689cb48f009ce59da60</th>\n",
       "      <td>887</td>\n",
       "      <td>781</td>\n",
       "    </tr>\n",
       "    <tr>\n",
       "      <th>5bc87193cb48f009ce5a3e5f</th>\n",
       "      <td>466</td>\n",
       "      <td>443</td>\n",
       "    </tr>\n",
       "    <tr>\n",
       "      <th>5b868bc5e68f507fbce4bcb3</th>\n",
       "      <td>392</td>\n",
       "      <td>382</td>\n",
       "    </tr>\n",
       "    <tr>\n",
       "      <th>5b8688dfe68f507fbce4975d</th>\n",
       "      <td>384</td>\n",
       "      <td>380</td>\n",
       "    </tr>\n",
       "  </tbody>\n",
       "</table>\n",
       "</div>"
      ],
      "text/plain": [
       "                          comment_count  author_count\n",
       "5bc8673fcb48f009ce59e1bb           1126          1042\n",
       "5bc86689cb48f009ce59da60            887           781\n",
       "5bc87193cb48f009ce5a3e5f            466           443\n",
       "5b868bc5e68f507fbce4bcb3            392           382\n",
       "5b8688dfe68f507fbce4975d            384           380"
      ]
     },
     "execution_count": 17,
     "metadata": {},
     "output_type": "execute_result"
    }
   ],
   "source": [
    "# Combine\n",
    "issue_comment_data = pd.concat([issue_comment_count, unique_authors_per_issue], axis=1)\n",
    "issue_comment_data.head()"
   ]
  },
  {
   "cell_type": "code",
   "execution_count": 18,
   "id": "3f04654f",
   "metadata": {},
   "outputs": [],
   "source": [
    "# Merge issue_comment_data with cleaned issue data\n",
    "df = pd.merge(df, issue_comment_data, left_on='_id', right_index=True)"
   ]
  },
  {
   "cell_type": "code",
   "execution_count": 19,
   "id": "981e1556",
   "metadata": {},
   "outputs": [],
   "source": [
    "# Total comments per author\n",
    "df_comments_per_author = df_comments['author_id'].value_counts().rename_axis('author_id').to_frame(name='#comments').reset_index()"
   ]
  },
  {
   "cell_type": "code",
   "execution_count": 20,
   "id": "ed56fa6f",
   "metadata": {},
   "outputs": [],
   "source": [
    "df = pd.merge(df, df_comments_per_author, left_on='creator_id', right_on='author_id')\n",
    "df['creator_#comments'] = df['#comments']\n",
    "df = df.drop(columns=['author_id', '#comments'])\n",
    "\n",
    "df = pd.merge(df, df_comments_per_author, left_on='assignee_id', right_on='author_id')\n",
    "df['assignee_#comments'] = df['#comments']\n",
    "df = df.drop(columns=['author_id', '#comments'])"
   ]
  },
  {
   "cell_type": "markdown",
   "id": "0bb8f907",
   "metadata": {},
   "source": [
    "### Number of times updated"
   ]
  },
  {
   "cell_type": "code",
   "execution_count": 21,
   "id": "96eb2ef4",
   "metadata": {},
   "outputs": [],
   "source": [
    "db_events = list(db.event.find({}, {'issue_id'}))"
   ]
  },
  {
   "cell_type": "code",
   "execution_count": 22,
   "id": "8da970ab",
   "metadata": {},
   "outputs": [
    {
     "data": {
      "text/html": [
       "<div>\n",
       "<style scoped>\n",
       "    .dataframe tbody tr th:only-of-type {\n",
       "        vertical-align: middle;\n",
       "    }\n",
       "\n",
       "    .dataframe tbody tr th {\n",
       "        vertical-align: top;\n",
       "    }\n",
       "\n",
       "    .dataframe thead th {\n",
       "        text-align: right;\n",
       "    }\n",
       "</style>\n",
       "<table border=\"1\" class=\"dataframe\">\n",
       "  <thead>\n",
       "    <tr style=\"text-align: right;\">\n",
       "      <th></th>\n",
       "      <th>_id</th>\n",
       "      <th>issue_id</th>\n",
       "    </tr>\n",
       "  </thead>\n",
       "  <tbody>\n",
       "    <tr>\n",
       "      <th>0</th>\n",
       "      <td>58bfca930ccb2667fe269dd5</td>\n",
       "      <td>58bfca930ccb2667fe269dd4</td>\n",
       "    </tr>\n",
       "    <tr>\n",
       "      <th>1</th>\n",
       "      <td>58bfca930ccb2667fe269dd6</td>\n",
       "      <td>58bfca930ccb2667fe269dd4</td>\n",
       "    </tr>\n",
       "    <tr>\n",
       "      <th>2</th>\n",
       "      <td>58bfca950ccb2667fe269dd9</td>\n",
       "      <td>58bfca950ccb2667fe269dd8</td>\n",
       "    </tr>\n",
       "    <tr>\n",
       "      <th>3</th>\n",
       "      <td>58bfca950ccb2667fe269dda</td>\n",
       "      <td>58bfca950ccb2667fe269dd8</td>\n",
       "    </tr>\n",
       "    <tr>\n",
       "      <th>4</th>\n",
       "      <td>58bfca950ccb2667fe269ddf</td>\n",
       "      <td>58bfca950ccb2667fe269dde</td>\n",
       "    </tr>\n",
       "  </tbody>\n",
       "</table>\n",
       "</div>"
      ],
      "text/plain": [
       "                        _id                  issue_id\n",
       "0  58bfca930ccb2667fe269dd5  58bfca930ccb2667fe269dd4\n",
       "1  58bfca930ccb2667fe269dd6  58bfca930ccb2667fe269dd4\n",
       "2  58bfca950ccb2667fe269dd9  58bfca950ccb2667fe269dd8\n",
       "3  58bfca950ccb2667fe269dda  58bfca950ccb2667fe269dd8\n",
       "4  58bfca950ccb2667fe269ddf  58bfca950ccb2667fe269dde"
      ]
     },
     "execution_count": 22,
     "metadata": {},
     "output_type": "execute_result"
    }
   ],
   "source": [
    "df_events = pd.DataFrame(db_events)\n",
    "df_events.head()"
   ]
  },
  {
   "cell_type": "code",
   "execution_count": 23,
   "id": "856fb342",
   "metadata": {},
   "outputs": [],
   "source": [
    "df_update_count = df_events['issue_id'].value_counts().to_frame(\"update_count\")\n",
    "df = pd.merge(df, df_update_count, left_on='_id', right_index=True)"
   ]
  },
  {
   "cell_type": "markdown",
   "id": "af04f574",
   "metadata": {},
   "source": [
    "### RQ1 Issue Outcome Data"
   ]
  },
  {
   "cell_type": "code",
   "execution_count": 24,
   "id": "fba4c7a1",
   "metadata": {},
   "outputs": [
    {
     "data": {
      "text/html": [
       "<div>\n",
       "<style scoped>\n",
       "    .dataframe tbody tr th:only-of-type {\n",
       "        vertical-align: middle;\n",
       "    }\n",
       "\n",
       "    .dataframe tbody tr th {\n",
       "        vertical-align: top;\n",
       "    }\n",
       "\n",
       "    .dataframe thead th {\n",
       "        text-align: right;\n",
       "    }\n",
       "</style>\n",
       "<table border=\"1\" class=\"dataframe\">\n",
       "  <thead>\n",
       "    <tr style=\"text-align: right;\">\n",
       "      <th></th>\n",
       "      <th>_id</th>\n",
       "      <th>sentiment</th>\n",
       "    </tr>\n",
       "  </thead>\n",
       "  <tbody>\n",
       "    <tr>\n",
       "      <th>0</th>\n",
       "      <td>58bfca950ccb2667fe269dd8</td>\n",
       "      <td>neutral</td>\n",
       "    </tr>\n",
       "    <tr>\n",
       "      <th>1</th>\n",
       "      <td>58bfca950ccb2667fe269ddd</td>\n",
       "      <td>neutral</td>\n",
       "    </tr>\n",
       "    <tr>\n",
       "      <th>2</th>\n",
       "      <td>58bfca950ccb2667fe269dde</td>\n",
       "      <td>neutral</td>\n",
       "    </tr>\n",
       "    <tr>\n",
       "      <th>3</th>\n",
       "      <td>58bfca970ccb2667fe269df6</td>\n",
       "      <td>neutral</td>\n",
       "    </tr>\n",
       "    <tr>\n",
       "      <th>4</th>\n",
       "      <td>58bfca980ccb2667fe269e11</td>\n",
       "      <td>neutral</td>\n",
       "    </tr>\n",
       "  </tbody>\n",
       "</table>\n",
       "</div>"
      ],
      "text/plain": [
       "                        _id sentiment\n",
       "0  58bfca950ccb2667fe269dd8   neutral\n",
       "1  58bfca950ccb2667fe269ddd   neutral\n",
       "2  58bfca950ccb2667fe269dde   neutral\n",
       "3  58bfca970ccb2667fe269df6   neutral\n",
       "4  58bfca980ccb2667fe269e11   neutral"
      ]
     },
     "execution_count": 24,
     "metadata": {},
     "output_type": "execute_result"
    }
   ],
   "source": [
    "labeled_data = pd.read_csv(\"issues_data_labeled_english.csv\")[['_id', 'sentiment']]\n",
    "labeled_data.head()"
   ]
  },
  {
   "cell_type": "code",
   "execution_count": 25,
   "id": "6f0f669e",
   "metadata": {},
   "outputs": [],
   "source": [
    "df_output = df.copy()\n",
    "df_output['_id'] = df_output['_id'].astype(str)\n",
    "df_output = pd.merge(left=df_output, right=labeled_data, left_on='_id', right_on='_id')"
   ]
  },
  {
   "cell_type": "code",
   "execution_count": 26,
   "id": "1bdc1720",
   "metadata": {},
   "outputs": [
    {
     "name": "stdout",
     "output_type": "stream",
     "text": [
      "Nr of lines output data 69285\n",
      "Neutral: 66975 positive: 1501 negative: 809\n"
     ]
    }
   ],
   "source": [
    "print(\"Nr of lines output data\", len(df_output.index))\n",
    "print(\"Neutral:\", len(df_output[df_output['sentiment'] == 'neutral'].index), \"positive:\", len(df_output[df_output['sentiment'] == 'positive'].index), \"negative:\", len(df_output[df_output['sentiment'] == 'negative'].index))"
   ]
  },
  {
   "cell_type": "code",
   "execution_count": 27,
   "id": "fe7c2934",
   "metadata": {},
   "outputs": [],
   "source": [
    "df_output.to_csv(\"issue_outcome_sentiment_data.csv\", index=False)"
   ]
  },
  {
   "cell_type": "markdown",
   "id": "ef74cef9",
   "metadata": {},
   "source": [
    "### Closing Time"
   ]
  },
  {
   "cell_type": "code",
   "execution_count": 28,
   "id": "caa86dc8",
   "metadata": {},
   "outputs": [],
   "source": [
    "# Continue with only resolved issues\n",
    "df = df[df['resolution'] == resolved_val]"
   ]
  },
  {
   "cell_type": "code",
   "execution_count": 29,
   "id": "204fa7ea",
   "metadata": {},
   "outputs": [],
   "source": [
    "from datetime import timedelta\n",
    "\n",
    "# Solution for evaluating time between opening and closing issues\n",
    "dataTime = list(db.event.aggregate([{\n",
    "           '$lookup':\n",
    "             {\n",
    "               'from': 'issue',\n",
    "               'localField': 'issue_id',\n",
    "               'foreignField': '_id',\n",
    "               'as': 'issue'\n",
    "             }},\n",
    "            {\n",
    "            '$unwind': '$issue'\n",
    "            },\n",
    "            {\n",
    "            '$project': {\n",
    "                '_id': 1, \n",
    "                'old_value': 1,  \n",
    "                'new_value': 1, \n",
    "                'created_at': 1,\n",
    "                'issue_id': '$issue._id',\n",
    "                'issue_created_at': '$issue.created_at',\n",
    "            }\n",
    "            }\n",
    "        ]))"
   ]
  },
  {
   "cell_type": "code",
   "execution_count": 30,
   "id": "0626fd0c",
   "metadata": {},
   "outputs": [
    {
     "name": "stdout",
     "output_type": "stream",
     "text": [
      "1290480 events\n"
     ]
    },
    {
     "data": {
      "text/html": [
       "<div>\n",
       "<style scoped>\n",
       "    .dataframe tbody tr th:only-of-type {\n",
       "        vertical-align: middle;\n",
       "    }\n",
       "\n",
       "    .dataframe tbody tr th {\n",
       "        vertical-align: top;\n",
       "    }\n",
       "\n",
       "    .dataframe thead th {\n",
       "        text-align: right;\n",
       "    }\n",
       "</style>\n",
       "<table border=\"1\" class=\"dataframe\">\n",
       "  <thead>\n",
       "    <tr style=\"text-align: right;\">\n",
       "      <th></th>\n",
       "      <th>_id</th>\n",
       "      <th>created_at</th>\n",
       "      <th>new_value</th>\n",
       "      <th>issue_id</th>\n",
       "      <th>issue_created_at</th>\n",
       "      <th>old_value</th>\n",
       "    </tr>\n",
       "  </thead>\n",
       "  <tbody>\n",
       "    <tr>\n",
       "      <th>0</th>\n",
       "      <td>58bfca930ccb2667fe269dd5</td>\n",
       "      <td>2008-06-17 14:57:32.125</td>\n",
       "      <td>java client</td>\n",
       "      <td>58bfca930ccb2667fe269dd4</td>\n",
       "      <td>2008-06-17 14:56:48.591</td>\n",
       "      <td>NaN</td>\n",
       "    </tr>\n",
       "    <tr>\n",
       "      <th>1</th>\n",
       "      <td>58bfca930ccb2667fe269dd6</td>\n",
       "      <td>2008-06-17 14:57:32.125</td>\n",
       "      <td>c client</td>\n",
       "      <td>58bfca930ccb2667fe269dd4</td>\n",
       "      <td>2008-06-17 14:56:48.591</td>\n",
       "      <td>NaN</td>\n",
       "    </tr>\n",
       "    <tr>\n",
       "      <th>2</th>\n",
       "      <td>58bfca950ccb2667fe269dd9</td>\n",
       "      <td>2008-06-27 14:57:40.462</td>\n",
       "      <td>Resolved</td>\n",
       "      <td>58bfca950ccb2667fe269dd8</td>\n",
       "      <td>2008-06-18 21:45:37.853</td>\n",
       "      <td>Open</td>\n",
       "    </tr>\n",
       "    <tr>\n",
       "      <th>3</th>\n",
       "      <td>58bfca950ccb2667fe269dda</td>\n",
       "      <td>2008-06-27 14:57:40.462</td>\n",
       "      <td>Invalid</td>\n",
       "      <td>58bfca950ccb2667fe269dd8</td>\n",
       "      <td>2008-06-18 21:45:37.853</td>\n",
       "      <td>NaN</td>\n",
       "    </tr>\n",
       "    <tr>\n",
       "      <th>4</th>\n",
       "      <td>58bfca950ccb2667fe269ddf</td>\n",
       "      <td>2008-07-22 17:46:24.481</td>\n",
       "      <td>Won't Fix</td>\n",
       "      <td>58bfca950ccb2667fe269dde</td>\n",
       "      <td>2008-07-04 01:51:27.937</td>\n",
       "      <td>NaN</td>\n",
       "    </tr>\n",
       "  </tbody>\n",
       "</table>\n",
       "</div>"
      ],
      "text/plain": [
       "                        _id              created_at    new_value  \\\n",
       "0  58bfca930ccb2667fe269dd5 2008-06-17 14:57:32.125  java client   \n",
       "1  58bfca930ccb2667fe269dd6 2008-06-17 14:57:32.125     c client   \n",
       "2  58bfca950ccb2667fe269dd9 2008-06-27 14:57:40.462     Resolved   \n",
       "3  58bfca950ccb2667fe269dda 2008-06-27 14:57:40.462      Invalid   \n",
       "4  58bfca950ccb2667fe269ddf 2008-07-22 17:46:24.481    Won't Fix   \n",
       "\n",
       "                   issue_id        issue_created_at old_value  \n",
       "0  58bfca930ccb2667fe269dd4 2008-06-17 14:56:48.591       NaN  \n",
       "1  58bfca930ccb2667fe269dd4 2008-06-17 14:56:48.591       NaN  \n",
       "2  58bfca950ccb2667fe269dd8 2008-06-18 21:45:37.853      Open  \n",
       "3  58bfca950ccb2667fe269dd8 2008-06-18 21:45:37.853       NaN  \n",
       "4  58bfca950ccb2667fe269dde 2008-07-04 01:51:27.937       NaN  "
      ]
     },
     "execution_count": 30,
     "metadata": {},
     "output_type": "execute_result"
    }
   ],
   "source": [
    "dfTime = pd.DataFrame(dataTime)\n",
    "print(len(dfTime.index), \"events\")\n",
    "dfTime.head()"
   ]
  },
  {
   "cell_type": "code",
   "execution_count": 31,
   "id": "d01c1a3e",
   "metadata": {},
   "outputs": [],
   "source": [
    "# put all new value in strings\n",
    "dfTime['old_value'] = dfTime['old_value'].astype(str)\n",
    "dfTime['new_value'] = dfTime['new_value'].astype(str)\n",
    "dfTime = dfTime[dfTime['old_value'] != dfTime['new_value']] # double check to exclude events which don't change anything\n",
    "dfTime = dfTime[dfTime['new_value'].isin(resolved_equivs)]  # filter new values to only contain resolved values\n",
    "dfTime['time_diff'] = dfTime['created_at'] - dfTime['issue_created_at']  # Compute the difference between the issue creation time and the resolving time"
   ]
  },
  {
   "cell_type": "code",
   "execution_count": 32,
   "id": "cb7787ec",
   "metadata": {},
   "outputs": [],
   "source": [
    "# Trivially, there may be duplicates, of which we will simply take the max time we want the time of the latest event\n",
    "dfTime = dfTime.groupby(['issue_id'], as_index=False)['time_diff'].max()  "
   ]
  },
  {
   "cell_type": "code",
   "execution_count": 33,
   "id": "b4c2521a",
   "metadata": {},
   "outputs": [
    {
     "name": "stdout",
     "output_type": "stream",
     "text": [
      "Current dataframe size 66213\n",
      "Resulting dataframe size 66082\n"
     ]
    }
   ],
   "source": [
    "print(\"Current dataframe size\", len(df.index))\n",
    "df_combined = pd.merge(left=df, right=dfTime[['issue_id', 'time_diff']], how='inner', left_on='_id', right_on='issue_id')\n",
    "print(\"Resulting dataframe size\", len(df_combined.index))"
   ]
  },
  {
   "cell_type": "code",
   "execution_count": 34,
   "id": "202429d8",
   "metadata": {},
   "outputs": [
    {
     "name": "stdout",
     "output_type": "stream",
     "text": [
      "Median 9 days 09:59:00.940500\n"
     ]
    },
    {
     "data": {
      "text/plain": [
       "<AxesSubplot:>"
      ]
     },
     "execution_count": 34,
     "metadata": {},
     "output_type": "execute_result"
    },
    {
     "data": {
      "image/png": "[encoded data removed]",
      "text/plain": [
       "<Figure size 432x288 with 1 Axes>"
      ]
     },
     "metadata": {
      "needs_background": "light"
     },
     "output_type": "display_data"
    }
   ],
   "source": [
    "# Distribution\n",
    "print(\"Median\", df_combined['time_diff'].median())\n",
    "df_combined['time_diff'].dt.total_seconds().hist(bins=50)"
   ]
  },
  {
   "cell_type": "code",
   "execution_count": 35,
   "id": "09a20e6a",
   "metadata": {},
   "outputs": [],
   "source": [
    "# Filter out first two and last two percentiles\n",
    "df_combined = df_combined[(df_combined['time_diff'] > df_combined['time_diff'].quantile(.02)) & (df_combined['time_diff'] < df_combined['time_diff'].quantile(.98))]"
   ]
  },
  {
   "cell_type": "code",
   "execution_count": 36,
   "id": "02170078",
   "metadata": {},
   "outputs": [],
   "source": [
    "# Create a binary resolving_time column which is based on the resolving time vs median\n",
    "median = df_combined['time_diff'].median()\n",
    "df_combined['resolving_time'] = df_combined['time_diff'].apply(lambda val: \"long\" if val > median else \"short\") "
   ]
  },
  {
   "cell_type": "markdown",
   "id": "6a4a7c10",
   "metadata": {},
   "source": [
    "### RQ2 Fixing Time Data"
   ]
  },
  {
   "cell_type": "code",
   "execution_count": 37,
   "id": "95507262",
   "metadata": {},
   "outputs": [
    {
     "data": {
      "text/html": [
       "<div>\n",
       "<style scoped>\n",
       "    .dataframe tbody tr th:only-of-type {\n",
       "        vertical-align: middle;\n",
       "    }\n",
       "\n",
       "    .dataframe tbody tr th {\n",
       "        vertical-align: top;\n",
       "    }\n",
       "\n",
       "    .dataframe thead th {\n",
       "        text-align: right;\n",
       "    }\n",
       "</style>\n",
       "<table border=\"1\" class=\"dataframe\">\n",
       "  <thead>\n",
       "    <tr style=\"text-align: right;\">\n",
       "      <th></th>\n",
       "      <th>_id</th>\n",
       "      <th>sentiment</th>\n",
       "    </tr>\n",
       "  </thead>\n",
       "  <tbody>\n",
       "    <tr>\n",
       "      <th>0</th>\n",
       "      <td>58bfca950ccb2667fe269dd8</td>\n",
       "      <td>neutral</td>\n",
       "    </tr>\n",
       "    <tr>\n",
       "      <th>1</th>\n",
       "      <td>58bfca950ccb2667fe269ddd</td>\n",
       "      <td>neutral</td>\n",
       "    </tr>\n",
       "    <tr>\n",
       "      <th>2</th>\n",
       "      <td>58bfca950ccb2667fe269dde</td>\n",
       "      <td>neutral</td>\n",
       "    </tr>\n",
       "    <tr>\n",
       "      <th>3</th>\n",
       "      <td>58bfca970ccb2667fe269df6</td>\n",
       "      <td>neutral</td>\n",
       "    </tr>\n",
       "    <tr>\n",
       "      <th>4</th>\n",
       "      <td>58bfca980ccb2667fe269e11</td>\n",
       "      <td>neutral</td>\n",
       "    </tr>\n",
       "  </tbody>\n",
       "</table>\n",
       "</div>"
      ],
      "text/plain": [
       "                        _id sentiment\n",
       "0  58bfca950ccb2667fe269dd8   neutral\n",
       "1  58bfca950ccb2667fe269ddd   neutral\n",
       "2  58bfca950ccb2667fe269dde   neutral\n",
       "3  58bfca970ccb2667fe269df6   neutral\n",
       "4  58bfca980ccb2667fe269e11   neutral"
      ]
     },
     "execution_count": 37,
     "metadata": {},
     "output_type": "execute_result"
    }
   ],
   "source": [
    "labeled_data = pd.read_csv(\"issues_data_labeled_english.csv\")[['_id', 'sentiment']]\n",
    "labeled_data.head()"
   ]
  },
  {
   "cell_type": "code",
   "execution_count": 38,
   "id": "9056c557",
   "metadata": {},
   "outputs": [],
   "source": [
    "df_output = df_combined.copy()\n",
    "df_output['_id'] = df_output['_id'].astype(str)\n",
    "df_output = pd.merge(left=df_output, right=labeled_data, left_on='_id', right_on='_id')"
   ]
  },
  {
   "cell_type": "code",
   "execution_count": 39,
   "id": "07114481",
   "metadata": {},
   "outputs": [
    {
     "name": "stdout",
     "output_type": "stream",
     "text": [
      "Nr of lines output data 63349\n",
      "Neutral: 61311 positive: 1313 negative: 725\n"
     ]
    }
   ],
   "source": [
    "print(\"Nr of lines output data\", len(df_output.index))\n",
    "print(\"Neutral:\", len(df_output[df_output['sentiment'] == 'neutral'].index), \"positive:\", len(df_output[df_output['sentiment'] == 'positive'].index), \"negative:\", len(df_output[df_output['sentiment'] == 'negative'].index))"
   ]
  },
  {
   "cell_type": "code",
   "execution_count": 40,
   "id": "31637f9a",
   "metadata": {},
   "outputs": [],
   "source": [
    "df_output.to_csv(\"fixing_time_sentiment_data.csv\", index=False)"
   ]
  },
  {
   "cell_type": "code",
   "execution_count": null,
   "id": "e31d9152",
   "metadata": {},
   "outputs": [],
   "source": []
  }
 ],
 "metadata": {
  "kernelspec": {
   "display_name": "Python 3",
   "language": "python",
   "name": "python3"
  },
  "language_info": {
   "codemirror_mode": {
    "name": "ipython",
    "version": 3
   },
   "file_extension": ".py",
   "mimetype": "text/x-python",
   "name": "python",
   "nbconvert_exporter": "python",
   "pygments_lexer": "ipython3",
   "version": "3.6.13"
  }
 },
 "nbformat": 4,
 "nbformat_minor": 5
}
