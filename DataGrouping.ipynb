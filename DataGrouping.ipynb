{
 "cells": [
  {
   "cell_type": "code",
   "execution_count": 1,
   "id": "412229c3-d45e-4b50-8c9c-e15e4815a99a",
   "metadata": {},
   "outputs": [],
   "source": [
    "import pandas as pd\n",
    "from pymongo import MongoClient\n",
    "\n",
    "connection = MongoClient(\n",
    "    host=\"research.cassee.dev\",\n",
    "    username=\"read-shark\",\n",
    "    password=\"msr2021shark\")\n",
    "\n",
    "db = connection.smartshark_2_1"
   ]
  },
  {
   "cell_type": "code",
   "execution_count": 2,
   "id": "5e74fbc0",
   "metadata": {},
   "outputs": [
    {
     "name": "stdout",
     "output_type": "stream",
     "text": [
      "146662 issues containing an issue_type and description field\n"
     ]
    }
   ],
   "source": [
    "#print(len(list(db.issue.find())), \"total issues\")  # --> 163057 db.issue.count() or db.issue.find().count() does not seem to work\n",
    "#print(len(list(db.issue.find({'issue_type' : {'$exists': True}}))), \"issues containing an issue_type field\")  # --> 158222\n",
    "#print(len(list(db.issue.find({'issue_type_verified': {'$exists': True }}, {'issue_type': 1, 'issue_type_verified' : 1}))), # --> 15517\n",
    "#      \"issues containing both issue_type and issue_type_verified\")  # note, every issue with issue_type_verified also has an issue_type\n",
    "print(len(list(db.issue.find({'issue_type' : {'$exists': True}, 'desc':{'$exists': True}}))), \"issues containing an issue_type and description field\")  # --> 146662\n"
   ]
  },
  {
   "cell_type": "code",
   "execution_count": 3,
   "id": "fa16f527",
   "metadata": {},
   "outputs": [
    {
     "data": {
      "text/html": [
       "<div>\n",
       "<style scoped>\n",
       "    .dataframe tbody tr th:only-of-type {\n",
       "        vertical-align: middle;\n",
       "    }\n",
       "\n",
       "    .dataframe tbody tr th {\n",
       "        vertical-align: top;\n",
       "    }\n",
       "\n",
       "    .dataframe thead th {\n",
       "        text-align: right;\n",
       "    }\n",
       "</style>\n",
       "<table border=\"1\" class=\"dataframe\">\n",
       "  <thead>\n",
       "    <tr style=\"text-align: right;\">\n",
       "      <th></th>\n",
       "      <th>_id</th>\n",
       "      <th>external_id</th>\n",
       "      <th>title</th>\n",
       "      <th>desc</th>\n",
       "      <th>creator_id</th>\n",
       "      <th>issue_type</th>\n",
       "      <th>priority</th>\n",
       "      <th>status</th>\n",
       "      <th>resolution</th>\n",
       "      <th>issue_type_verified</th>\n",
       "    </tr>\n",
       "  </thead>\n",
       "  <tbody>\n",
       "    <tr>\n",
       "      <th>0</th>\n",
       "      <td>58bfca910ccb2667fe269dd1</td>\n",
       "      <td>ZOOKEEPER-24</td>\n",
       "      <td>Do Application based outstanding request throt...</td>\n",
       "      <td>Moved from SourceForge to Apache.\\nhttp://sour...</td>\n",
       "      <td>58b938adf04620b395fccf94</td>\n",
       "      <td>New Feature</td>\n",
       "      <td>Major</td>\n",
       "      <td>Open</td>\n",
       "      <td>NaN</td>\n",
       "      <td>NaN</td>\n",
       "    </tr>\n",
       "    <tr>\n",
       "      <th>1</th>\n",
       "      <td>58bfca920ccb2667fe269dd2</td>\n",
       "      <td>ZOOKEEPER-35</td>\n",
       "      <td>Replay logs</td>\n",
       "      <td>Moved from SourceForge to Apache.\\nhttp://sour...</td>\n",
       "      <td>58b938adf04620b395fccf94</td>\n",
       "      <td>New Feature</td>\n",
       "      <td>Major</td>\n",
       "      <td>Open</td>\n",
       "      <td>NaN</td>\n",
       "      <td>NaN</td>\n",
       "    </tr>\n",
       "    <tr>\n",
       "      <th>2</th>\n",
       "      <td>58bfca930ccb2667fe269dd3</td>\n",
       "      <td>ZOOKEEPER-37</td>\n",
       "      <td>WebDAV access to ZooKeeper</td>\n",
       "      <td>Moved from SourceForge to Apache.\\nhttp://sour...</td>\n",
       "      <td>58b938adf04620b395fccf94</td>\n",
       "      <td>New Feature</td>\n",
       "      <td>Major</td>\n",
       "      <td>Open</td>\n",
       "      <td>NaN</td>\n",
       "      <td>NaN</td>\n",
       "    </tr>\n",
       "    <tr>\n",
       "      <th>3</th>\n",
       "      <td>58bfca930ccb2667fe269dd4</td>\n",
       "      <td>ZOOKEEPER-46</td>\n",
       "      <td>Clients should check the latencies to the vari...</td>\n",
       "      <td>When ZooKeeper clients and servers are on the ...</td>\n",
       "      <td>58b938adf04620b39bfccf95</td>\n",
       "      <td>Improvement</td>\n",
       "      <td>Major</td>\n",
       "      <td>Open</td>\n",
       "      <td>NaN</td>\n",
       "      <td>NaN</td>\n",
       "    </tr>\n",
       "    <tr>\n",
       "      <th>4</th>\n",
       "      <td>58bfca940ccb2667fe269dd7</td>\n",
       "      <td>ZOOKEEPER-52</td>\n",
       "      <td>Session ids on the stat cmd information</td>\n",
       "      <td>Currently there is not a way to correlate sess...</td>\n",
       "      <td>58b938adf04620b39bfccf95</td>\n",
       "      <td>Improvement</td>\n",
       "      <td>Minor</td>\n",
       "      <td>Open</td>\n",
       "      <td>NaN</td>\n",
       "      <td>NaN</td>\n",
       "    </tr>\n",
       "  </tbody>\n",
       "</table>\n",
       "</div>"
      ],
      "text/plain": [
       "                        _id   external_id  \\\n",
       "0  58bfca910ccb2667fe269dd1  ZOOKEEPER-24   \n",
       "1  58bfca920ccb2667fe269dd2  ZOOKEEPER-35   \n",
       "2  58bfca930ccb2667fe269dd3  ZOOKEEPER-37   \n",
       "3  58bfca930ccb2667fe269dd4  ZOOKEEPER-46   \n",
       "4  58bfca940ccb2667fe269dd7  ZOOKEEPER-52   \n",
       "\n",
       "                                               title  \\\n",
       "0  Do Application based outstanding request throt...   \n",
       "1                                        Replay logs   \n",
       "2                         WebDAV access to ZooKeeper   \n",
       "3  Clients should check the latencies to the vari...   \n",
       "4            Session ids on the stat cmd information   \n",
       "\n",
       "                                                desc  \\\n",
       "0  Moved from SourceForge to Apache.\\nhttp://sour...   \n",
       "1  Moved from SourceForge to Apache.\\nhttp://sour...   \n",
       "2  Moved from SourceForge to Apache.\\nhttp://sour...   \n",
       "3  When ZooKeeper clients and servers are on the ...   \n",
       "4  Currently there is not a way to correlate sess...   \n",
       "\n",
       "                 creator_id   issue_type priority status resolution  \\\n",
       "0  58b938adf04620b395fccf94  New Feature    Major   Open        NaN   \n",
       "1  58b938adf04620b395fccf94  New Feature    Major   Open        NaN   \n",
       "2  58b938adf04620b395fccf94  New Feature    Major   Open        NaN   \n",
       "3  58b938adf04620b39bfccf95  Improvement    Major   Open        NaN   \n",
       "4  58b938adf04620b39bfccf95  Improvement    Minor   Open        NaN   \n",
       "\n",
       "  issue_type_verified  \n",
       "0                 NaN  \n",
       "1                 NaN  \n",
       "2                 NaN  \n",
       "3                 NaN  \n",
       "4                 NaN  "
      ]
     },
     "execution_count": 3,
     "metadata": {},
     "output_type": "execute_result"
    }
   ],
   "source": [
    "# Query all issues which have an issue type (158222 out of 163057 total issues)\n",
    "issues = list(db.issue.find({'issue_type': {'$exists': True }, 'desc':{'$exists': True}}, {'_id': 1, 'external_id': 1, 'creator_id':1, 'title': 1, 'issue_type': 1, 'issue_type_verified': 1, 'priority': 1, 'status': 1, 'resolution': 1, 'desc': 1}))\n",
    "\n",
    "# Convert to dataframe\n",
    "df = pd.DataFrame(issues)\n",
    "df.head()"
   ]
  },
  {
   "cell_type": "markdown",
   "id": "07cb2a17",
   "metadata": {},
   "source": [
    "## Issue Types (Verified)"
   ]
  },
  {
   "cell_type": "code",
   "execution_count": 4,
   "id": "e1164360",
   "metadata": {},
   "outputs": [],
   "source": [
    "# Combine issue type and issue type verified, such that if there is a verified type we pick that, otherwise keep the original issue type\n",
    "df['new_issue_type'] = df['issue_type_verified'].combine_first(df['issue_type'])\n",
    "\n",
    "# drop the old issue types and rename new_issue_type to issue_type\n",
    "df = df.drop(columns = ['issue_type', 'issue_type_verified'])\n",
    "df = df.rename(columns={'new_issue_type': 'issue_type'})"
   ]
  },
  {
   "cell_type": "code",
   "execution_count": 5,
   "id": "119d48ab",
   "metadata": {
    "scrolled": true
   },
   "outputs": [
    {
     "name": "stdout",
     "output_type": "stream",
     "text": [
      "All issue type currently present:\n",
      " bug                        78027\n",
      "improvement                39626\n",
      "new feature                 9036\n",
      "sub-task                    6929\n",
      "task                        6730\n",
      "test                        1538\n",
      "wish                        1351\n",
      "other                       1181\n",
      "documentation                999\n",
      "feature_request              521\n",
      "question                     303\n",
      "dependency upgrade           113\n",
      "refactoring                   90\n",
      "epic                          76\n",
      "story                         41\n",
      "temp                          30\n",
      "brainstorming                 20\n",
      "umbrella                      19\n",
      "blog - new blog request        6\n",
      "dependency                     6\n",
      "request                        4\n",
      "it help                        3\n",
      "new jira project               3\n",
      "tck challenge                  3\n",
      "technical task                 2\n",
      "project                        1\n",
      "outage                         1\n",
      "new git repo                   1\n",
      "planned work                   1\n",
      "proposal                       1\n",
      "Name: issue_type, dtype: int64\n",
      "\n",
      "Combined issue types:\n",
      " bug              78027\n",
      "feature          50559\n",
      "task             13661\n",
      "test              1538\n",
      "other             1456\n",
      "documentation      999\n",
      "question           303\n",
      "dependency         119\n",
      "Name: issue_type, dtype: int64\n"
     ]
    }
   ],
   "source": [
    "# put all issue types in lowercase\n",
    "df['issue_type'] = df['issue_type'].apply(lambda x: x.lower())\n",
    "print(\"All issue type currently present:\\n\", df['issue_type'].value_counts())\n",
    "\n",
    "# grouping of values which mean the same but have different labels\n",
    "feature_equivs = ['improvement', 'new feature', 'wish', 'feature_request', 'brainstorming', 'request', 'proposal']\n",
    "feature_val = 'feature'\n",
    "task_equivs = ['sub-task', 'task', 'technical task']\n",
    "task_val = 'task'\n",
    "dependency_equivs = ['dependency upgrade', 'dependency']\n",
    "dep_val = 'dependency'\n",
    "other_equivs = ['other', 'epic', 'refactoring', 'temp', 'umbrella', 'story', 'blog - new blog request', 'tck challenge', 'it help', 'new jira project', 'access', 'blogs - new blog user account request', 'project', 'outage', 'new tlp ', 'new git repo', 'planned work']\n",
    "other_val = 'other'\n",
    "\n",
    "# mainly not sure what to do with: test, documentation, question, epic, refactoring, temp and umbrella\n",
    "\n",
    "df['issue_type'] = df['issue_type'].apply(lambda val: feature_val if val in feature_equivs else val) \n",
    "df['issue_type'] = df['issue_type'].apply(lambda val: task_val if val in task_equivs else val) \n",
    "df['issue_type'] = df['issue_type'].apply(lambda val: dep_val if val in dependency_equivs else val) \n",
    "df['issue_type'] = df['issue_type'].apply(lambda val: other_val if val in other_equivs else val) \n",
    "\n",
    "print(\"\\nCombined issue types:\\n\", df['issue_type'].value_counts())"
   ]
  },
  {
   "cell_type": "markdown",
   "id": "aeafa0a5",
   "metadata": {},
   "source": [
    "### Status"
   ]
  },
  {
   "cell_type": "code",
   "execution_count": 6,
   "id": "d278f71e",
   "metadata": {},
   "outputs": [
    {
     "name": "stdout",
     "output_type": "stream",
     "text": [
      "Initial unique status values\n",
      " Closed             75246\n",
      "Resolved           43895\n",
      "Open               25229\n",
      "Patch Available     1049\n",
      "Reopened             672\n",
      "In Progress          569\n",
      "Blocked                2\n",
      "Name: status, dtype: int64\n",
      "\n",
      "Filtered status\n",
      " Closed      75246\n",
      "Resolved    43895\n",
      "Name: status, dtype: int64\n"
     ]
    }
   ],
   "source": [
    "print(\"Initial unique status values\\n\", df['status'].value_counts(dropna=False))\n",
    "\n",
    "# All issues have a statement (i.e. no nan values), interestingly blocked only occurs twice\n",
    "# We'll only look at closed and resolved issues\n",
    "df = df[(df['status'] == 'Closed') | (df['status'] == 'Resolved')]\n",
    "\n",
    "print(\"\\nFiltered status\\n\", df['status'].value_counts(dropna=False))"
   ]
  },
  {
   "cell_type": "markdown",
   "id": "988eab95",
   "metadata": {},
   "source": [
    "### Resolution"
   ]
  },
  {
   "cell_type": "code",
   "execution_count": 7,
   "id": "ee7c7e6e",
   "metadata": {},
   "outputs": [
    {
     "name": "stdout",
     "output_type": "stream",
     "text": [
      "Initial unique resolution values:\n",
      " Fixed                   91096\n",
      "Won't Fix                6757\n",
      "Duplicate                6542\n",
      "Not A Problem            4215\n",
      "Invalid                  2920\n",
      "Cannot Reproduce         2565\n",
      "Incomplete               2417\n",
      "Done                      796\n",
      "Implemented               323\n",
      "Not A Bug                 319\n",
      "Resolved                  269\n",
      "Later                     246\n",
      "Auto Closed               177\n",
      "Won't Do                  119\n",
      "Abandoned                 103\n",
      "Information Provided       84\n",
      "Workaround                 73\n",
      "Unresolved                 47\n",
      "Pending Closed             35\n",
      "Works for Me               17\n",
      "Feedback Received           9\n",
      "Delivered                   5\n",
      "NaN                         4\n",
      "REMIND                      2\n",
      "Staged                      1\n",
      "Name: resolution, dtype: int64\n",
      "\n",
      "Combined unique resolution values:\n",
      " Resolved                92899\n",
      "Invalid                 18663\n",
      "Unresolved               7240\n",
      "Later                     246\n",
      "Information Provided       84\n",
      "Feedback Received           9\n",
      "Name: resolution, dtype: int64\n"
     ]
    }
   ],
   "source": [
    "print(\"Initial unique resolution values:\\n\", df['resolution'].value_counts(dropna=False))\n",
    "\n",
    "# grouping of values which mean the same but have different labels\n",
    "resolved_equivs = ['Fixed', 'Done', 'Not A Bug', 'Resolved', 'Workaround', 'Works for Me', 'Delivered', 'Implemented', 'Staged']\n",
    "resolved_val = 'Resolved'\n",
    "unresolved_equivs = [\"Won't Fix\", 'Auto Closed', \"Won't Do\", \"Abandoned\", 'Unresolved', 'Pending Closed', 'REMIND']\n",
    "unresolved_val = 'Unresolved'\n",
    "invalid_equivs = ['Duplicate', 'Not A Problem', 'Invalid', 'Cannot Reproduce', 'Incomplete']\n",
    "invalid_val = 'Invalid'\n",
    "\n",
    "# Not a problem, not a bug -> invalid or resolved?\n",
    "# information provided?   About half resolved, half closed\n",
    "# Feedback Received?  About half resolved, half closed\n",
    "# Later ?  Again about half resolved, half closed\n",
    "\n",
    "df['resolution'] = df['resolution'].apply(lambda val: resolved_val if val in resolved_equivs else val) \n",
    "df['resolution'] = df['resolution'].apply(lambda val: unresolved_val if val in unresolved_equivs else val) \n",
    "df['resolution'] = df['resolution'].apply(lambda val: invalid_val if val in invalid_equivs else val) \n",
    "df['resolution'] = df['resolution'].apply(lambda val: invalid_val if str(val) == 'nan' else val)  # drop nans as .dropna() doesn't seem to work\n",
    "df['resolution'] = df['resolution'].dropna()\n",
    "print(\"\\nCombined unique resolution values:\\n\", df['resolution'].value_counts(dropna=False))"
   ]
  },
  {
   "cell_type": "markdown",
   "id": "ca1ac1ae",
   "metadata": {},
   "source": [
    "## Descriptions"
   ]
  },
  {
   "cell_type": "code",
   "execution_count": 10,
   "id": "870a380a",
   "metadata": {},
   "outputs": [
    {
     "data": {
      "text/plain": [
       "count    1.191410e+05\n",
       "mean     1.089717e+03\n",
       "std      1.139670e+04\n",
       "min      0.000000e+00\n",
       "25%      1.890000e+02\n",
       "50%      3.930000e+02\n",
       "75%      8.850000e+02\n",
       "max      3.051514e+06\n",
       "Name: desc_length, dtype: float64"
      ]
     },
     "execution_count": 10,
     "metadata": {},
     "output_type": "execute_result"
    }
   ],
   "source": [
    "#df = df[df['desc'].str.len() > 10]\n",
    "df_plot = df\n",
    "df_plot['desc_length'] = df_plot['desc'].str.len().astype(int)\n",
    "df_plot['desc_length'].describe()"
   ]
  },
  {
   "cell_type": "code",
   "execution_count": 14,
   "id": "f1e68b40",
   "metadata": {},
   "outputs": [
    {
     "data": {
      "text/plain": [
       "array([[<AxesSubplot:title={'center':'desc_length'}>]], dtype=object)"
      ]
     },
     "execution_count": 14,
     "metadata": {},
     "output_type": "execute_result"
    },
    {
     "data": {
      "image/png": "[encoded data removed]",
      "text/plain": [
       "<Figure size 432x288 with 1 Axes>"
      ]
     },
     "metadata": {
      "needs_background": "light"
     },
     "output_type": "display_data"
    }
   ],
   "source": [
    "df_plot[(df_plot['desc_length'] > 0) & (df_plot['desc_length'] < 10000)].hist(column='desc_length', bins=100)"
   ]
  }
 ],
 "metadata": {
  "kernelspec": {
   "display_name": "Python 3",
   "language": "python",
   "name": "python3"
  },
  "language_info": {
   "codemirror_mode": {
    "name": "ipython",
    "version": 3
   },
   "file_extension": ".py",
   "mimetype": "text/x-python",
   "name": "python",
   "nbconvert_exporter": "python",
   "pygments_lexer": "ipython3",
   "version": "3.6.13"
  }
 },
 "nbformat": 4,
 "nbformat_minor": 5
}
